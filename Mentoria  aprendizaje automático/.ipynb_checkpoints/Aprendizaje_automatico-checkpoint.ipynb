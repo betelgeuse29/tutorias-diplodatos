{
 "cells": [
  {
   "cell_type": "markdown",
   "metadata": {},
   "source": [
    "# Proyecto: Análisis del mercado inmobiliario de la Ciudad de Buenos Aires"
   ]
  },
  {
   "cell_type": "markdown",
   "metadata": {},
   "source": [
    "Mentor: Javier Lezama."
   ]
  },
  {
   "cell_type": "markdown",
   "metadata": {},
   "source": [
    "javitolez@gmail.com"
   ]
  },
  {
   "cell_type": "markdown",
   "metadata": {},
   "source": [
    "En este proyecto vamos a trabajar con un dataset de propiedades en venta publicadas en el portal www.Properati.com.ar."
   ]
  },
  {
   "cell_type": "markdown",
   "metadata": {},
   "source": [
    "#### Autor: Pablo Borja"
   ]
  },
  {
   "cell_type": "markdown",
   "metadata": {},
   "source": [
    "# El dataset: propiedades en venta en Ciudad de Buenos Aires."
   ]
  },
  {
   "cell_type": "markdown",
   "metadata": {},
   "source": [
    "En este proyecto, trabajaremos con una muestra del conjunto de datos de propiedades en venta mencionado. En este dataset, cada fila es una propiedad en venta. \n",
    "\n",
    "#Los atributos\n",
    "\n",
    "A continuación vamos a describir los atributos que consideramos en esta muestra:\n",
    "* id: id de la propiedad\n",
    "* created_on: fecha en la que la propiedad ingresó al sitio\n",
    "* operation: alquiler (rent) o venta (sell)\n",
    "* property_type: tipo de propiedad (casa, departamento, ph, etcétera)\n",
    "* place_with_parent_names: nombre del lugar donde se encuentra la propiedad según el publicador\n",
    "* lat-lon: coordenadas concatenadas\n",
    "* lat: latitud\n",
    "* lon: longitud\n",
    "* price: precio en la moneda especificada en currency\n",
    "* currency: divisa en la que está expresada la publicación\n",
    "* price_aprox_usd: precio aproximado en dólares estadounidenses\n",
    "* surface_total_in_m2: superficie total (en metros cuadrados)\n",
    "* surface_covered_in_m2: superficie cubierta (en metros cuadrados)\n",
    "* price_usd_per_m2: precio por metro cuadrado en dólares (precio dólares / superficie)\n",
    "* floor: número de piso (si corresponde)\n",
    "* rooms: cantidad de ambientes\n",
    "* expenses: expensas (si corresponde)\n",
    "* barrio: barrio según cartografía oficial\n",
    "* properati_url: url de la publicación en Properati"
   ]
  },
  {
   "cell_type": "markdown",
   "metadata": {},
   "source": [
    "Objetivos del practico aprendizaje automático:\n",
    "\n",
    "El objetivo de este práctico es trabajar con el mismo dateset trabajado en el práctico dos, trabajar con diferentes modelos de regresión no trabajados antes y lo visto en el módulo de clases.\n",
    "Para eso trabajaremos con el dataset resultante del practico dos para armar diferentes modelos para predecir el precio de las propiedades en dólares."
   ]
  },
  {
   "cell_type": "markdown",
   "metadata": {},
   "source": [
    "# Manos a la obra\n"
   ]
  },
  {
   "cell_type": "markdown",
   "metadata": {},
   "source": [
    "Partiremos con el dataset resultante del práctico dos."
   ]
  },
  {
   "cell_type": "code",
   "execution_count": 1,
   "metadata": {},
   "outputs": [],
   "source": [
    "import pandas as pd\n",
    "import numpy as np\n",
    "import matplotlib.pyplot as plt"
   ]
  },
  {
   "cell_type": "code",
   "execution_count": 2,
   "metadata": {
    "scrolled": true
   },
   "outputs": [],
   "source": [
    "df = pd.read_csv(\"../Mentoria Análisis y Curación de Datos/df_filtered.csv\")"
   ]
  },
  {
   "cell_type": "code",
   "execution_count": 3,
   "metadata": {},
   "outputs": [
    {
     "data": {
      "text/html": [
       "<div>\n",
       "<style scoped>\n",
       "    .dataframe tbody tr th:only-of-type {\n",
       "        vertical-align: middle;\n",
       "    }\n",
       "\n",
       "    .dataframe tbody tr th {\n",
       "        vertical-align: top;\n",
       "    }\n",
       "\n",
       "    .dataframe thead th {\n",
       "        text-align: right;\n",
       "    }\n",
       "</style>\n",
       "<table border=\"1\" class=\"dataframe\">\n",
       "  <thead>\n",
       "    <tr style=\"text-align: right;\">\n",
       "      <th></th>\n",
       "      <th>created_on</th>\n",
       "      <th>operation</th>\n",
       "      <th>property_type</th>\n",
       "      <th>place_with_parent_names</th>\n",
       "      <th>lat-lon</th>\n",
       "      <th>lat</th>\n",
       "      <th>lon</th>\n",
       "      <th>price_aprox_usd</th>\n",
       "      <th>surface_total_in_m2</th>\n",
       "      <th>surface_covered_in_m2</th>\n",
       "      <th>...</th>\n",
       "      <th>x1_VILLA LUGANO</th>\n",
       "      <th>x1_VILLA LURO</th>\n",
       "      <th>x1_VILLA ORTUZAR</th>\n",
       "      <th>x1_VILLA PUEYRREDON</th>\n",
       "      <th>x1_VILLA REAL</th>\n",
       "      <th>x1_VILLA RIACHUELO</th>\n",
       "      <th>x1_VILLA SANTA RITA</th>\n",
       "      <th>x1_VILLA SOLDATI</th>\n",
       "      <th>x1_VILLA URQUIZA</th>\n",
       "      <th>price_m2</th>\n",
       "    </tr>\n",
       "  </thead>\n",
       "  <tbody>\n",
       "    <tr>\n",
       "      <th>0</th>\n",
       "      <td>2017-08-02</td>\n",
       "      <td>sell</td>\n",
       "      <td>3</td>\n",
       "      <td>|Argentina|Capital Federal|Palermo|Palermo Soho|</td>\n",
       "      <td>-34.589723,-58.4325664</td>\n",
       "      <td>-34.589723</td>\n",
       "      <td>-58.432566</td>\n",
       "      <td>343000.0</td>\n",
       "      <td>122.0</td>\n",
       "      <td>108.000000</td>\n",
       "      <td>...</td>\n",
       "      <td>0.0</td>\n",
       "      <td>0.0</td>\n",
       "      <td>0.0</td>\n",
       "      <td>0.0</td>\n",
       "      <td>0.0</td>\n",
       "      <td>0.0</td>\n",
       "      <td>0.0</td>\n",
       "      <td>0.0</td>\n",
       "      <td>0.0</td>\n",
       "      <td>2811.475410</td>\n",
       "    </tr>\n",
       "    <tr>\n",
       "      <th>1</th>\n",
       "      <td>2017-08-09</td>\n",
       "      <td>sell</td>\n",
       "      <td>3</td>\n",
       "      <td>|Argentina|Capital Federal|Palermo|</td>\n",
       "      <td>-34.57582474,-58.43432236</td>\n",
       "      <td>-34.575825</td>\n",
       "      <td>-58.434322</td>\n",
       "      <td>120000.0</td>\n",
       "      <td>30.0</td>\n",
       "      <td>30.000000</td>\n",
       "      <td>...</td>\n",
       "      <td>0.0</td>\n",
       "      <td>0.0</td>\n",
       "      <td>0.0</td>\n",
       "      <td>0.0</td>\n",
       "      <td>0.0</td>\n",
       "      <td>0.0</td>\n",
       "      <td>0.0</td>\n",
       "      <td>0.0</td>\n",
       "      <td>0.0</td>\n",
       "      <td>4000.000000</td>\n",
       "    </tr>\n",
       "    <tr>\n",
       "      <th>2</th>\n",
       "      <td>2017-08-11</td>\n",
       "      <td>sell</td>\n",
       "      <td>3</td>\n",
       "      <td>|Argentina|Capital Federal|Belgrano|</td>\n",
       "      <td>-34.5739059,-58.4391946</td>\n",
       "      <td>-34.573906</td>\n",
       "      <td>-58.439195</td>\n",
       "      <td>100000.0</td>\n",
       "      <td>26.0</td>\n",
       "      <td>98.677368</td>\n",
       "      <td>...</td>\n",
       "      <td>0.0</td>\n",
       "      <td>0.0</td>\n",
       "      <td>0.0</td>\n",
       "      <td>0.0</td>\n",
       "      <td>0.0</td>\n",
       "      <td>0.0</td>\n",
       "      <td>0.0</td>\n",
       "      <td>0.0</td>\n",
       "      <td>0.0</td>\n",
       "      <td>3846.153846</td>\n",
       "    </tr>\n",
       "    <tr>\n",
       "      <th>3</th>\n",
       "      <td>2017-08-12</td>\n",
       "      <td>sell</td>\n",
       "      <td>3</td>\n",
       "      <td>|Argentina|Capital Federal|Palermo|</td>\n",
       "      <td>-34.5956086,-58.4247641</td>\n",
       "      <td>-34.595609</td>\n",
       "      <td>-58.424764</td>\n",
       "      <td>110000.0</td>\n",
       "      <td>48.0</td>\n",
       "      <td>48.000000</td>\n",
       "      <td>...</td>\n",
       "      <td>0.0</td>\n",
       "      <td>0.0</td>\n",
       "      <td>0.0</td>\n",
       "      <td>0.0</td>\n",
       "      <td>0.0</td>\n",
       "      <td>0.0</td>\n",
       "      <td>0.0</td>\n",
       "      <td>0.0</td>\n",
       "      <td>0.0</td>\n",
       "      <td>2291.666667</td>\n",
       "    </tr>\n",
       "    <tr>\n",
       "      <th>4</th>\n",
       "      <td>2017-08-15</td>\n",
       "      <td>sell</td>\n",
       "      <td>3</td>\n",
       "      <td>|Argentina|Capital Federal|Palermo|</td>\n",
       "      <td>-34.5580305,-58.4170088</td>\n",
       "      <td>-34.558031</td>\n",
       "      <td>-58.417009</td>\n",
       "      <td>50000.0</td>\n",
       "      <td>20.0</td>\n",
       "      <td>20.000000</td>\n",
       "      <td>...</td>\n",
       "      <td>0.0</td>\n",
       "      <td>0.0</td>\n",
       "      <td>0.0</td>\n",
       "      <td>0.0</td>\n",
       "      <td>0.0</td>\n",
       "      <td>0.0</td>\n",
       "      <td>0.0</td>\n",
       "      <td>0.0</td>\n",
       "      <td>0.0</td>\n",
       "      <td>2500.000000</td>\n",
       "    </tr>\n",
       "  </tbody>\n",
       "</table>\n",
       "<p>5 rows × 68 columns</p>\n",
       "</div>"
      ],
      "text/plain": [
       "   created_on operation  property_type  \\\n",
       "0  2017-08-02      sell              3   \n",
       "1  2017-08-09      sell              3   \n",
       "2  2017-08-11      sell              3   \n",
       "3  2017-08-12      sell              3   \n",
       "4  2017-08-15      sell              3   \n",
       "\n",
       "                            place_with_parent_names  \\\n",
       "0  |Argentina|Capital Federal|Palermo|Palermo Soho|   \n",
       "1               |Argentina|Capital Federal|Palermo|   \n",
       "2              |Argentina|Capital Federal|Belgrano|   \n",
       "3               |Argentina|Capital Federal|Palermo|   \n",
       "4               |Argentina|Capital Federal|Palermo|   \n",
       "\n",
       "                     lat-lon        lat        lon  price_aprox_usd  \\\n",
       "0     -34.589723,-58.4325664 -34.589723 -58.432566         343000.0   \n",
       "1  -34.57582474,-58.43432236 -34.575825 -58.434322         120000.0   \n",
       "2    -34.5739059,-58.4391946 -34.573906 -58.439195         100000.0   \n",
       "3    -34.5956086,-58.4247641 -34.595609 -58.424764         110000.0   \n",
       "4    -34.5580305,-58.4170088 -34.558031 -58.417009          50000.0   \n",
       "\n",
       "   surface_total_in_m2  surface_covered_in_m2  ...  x1_VILLA LUGANO  \\\n",
       "0                122.0             108.000000  ...              0.0   \n",
       "1                 30.0              30.000000  ...              0.0   \n",
       "2                 26.0              98.677368  ...              0.0   \n",
       "3                 48.0              48.000000  ...              0.0   \n",
       "4                 20.0              20.000000  ...              0.0   \n",
       "\n",
       "   x1_VILLA LURO x1_VILLA ORTUZAR x1_VILLA PUEYRREDON  x1_VILLA REAL  \\\n",
       "0            0.0              0.0                 0.0            0.0   \n",
       "1            0.0              0.0                 0.0            0.0   \n",
       "2            0.0              0.0                 0.0            0.0   \n",
       "3            0.0              0.0                 0.0            0.0   \n",
       "4            0.0              0.0                 0.0            0.0   \n",
       "\n",
       "   x1_VILLA RIACHUELO  x1_VILLA SANTA RITA  x1_VILLA SOLDATI  \\\n",
       "0                 0.0                  0.0               0.0   \n",
       "1                 0.0                  0.0               0.0   \n",
       "2                 0.0                  0.0               0.0   \n",
       "3                 0.0                  0.0               0.0   \n",
       "4                 0.0                  0.0               0.0   \n",
       "\n",
       "   x1_VILLA URQUIZA     price_m2  \n",
       "0               0.0  2811.475410  \n",
       "1               0.0  4000.000000  \n",
       "2               0.0  3846.153846  \n",
       "3               0.0  2291.666667  \n",
       "4               0.0  2500.000000  \n",
       "\n",
       "[5 rows x 68 columns]"
      ]
     },
     "execution_count": 3,
     "metadata": {},
     "output_type": "execute_result"
    }
   ],
   "source": [
    "df.head()"
   ]
  },
  {
   "cell_type": "code",
   "execution_count": 4,
   "metadata": {},
   "outputs": [],
   "source": [
    "df = df.select_dtypes([np.number])"
   ]
  },
  {
   "cell_type": "markdown",
   "metadata": {},
   "source": [
    "# Ejercicio 1: División de datos en conjuntos de entrenamiento y evaluación."
   ]
  },
  {
   "cell_type": "markdown",
   "metadata": {},
   "source": [
    "La primer tarea consiste en dividir el conjunto de datos cargados en el apartado anterior en conjuntos de entrenamiento (o training) y evaluación (o test)."
   ]
  },
  {
   "cell_type": "code",
   "execution_count": 5,
   "metadata": {},
   "outputs": [],
   "source": [
    "from sklearn.model_selection import train_test_split"
   ]
  },
  {
   "cell_type": "code",
   "execution_count": 6,
   "metadata": {},
   "outputs": [],
   "source": [
    "X = df.drop('price_aprox_usd', axis=1)\n",
    "y = df['price_aprox_usd']"
   ]
  },
  {
   "cell_type": "code",
   "execution_count": 7,
   "metadata": {},
   "outputs": [],
   "source": [
    "X_train, X_test, y_train, y_test = train_test_split(X, y, test_size=0.3)"
   ]
  },
  {
   "cell_type": "markdown",
   "metadata": {},
   "source": [
    "# Ejercicio 2: Árboles de decisión."
   ]
  },
  {
   "cell_type": "markdown",
   "metadata": {},
   "source": [
    "Entrenar un arbol de decisión de regresión para predecir el precio de las propiedades en dolares, variando sus hiperparametros tales como la profundidad, función de coste, etc."
   ]
  },
  {
   "cell_type": "code",
   "execution_count": 14,
   "metadata": {},
   "outputs": [],
   "source": [
    "from sklearn.tree import DecisionTreeRegressor"
   ]
  },
  {
   "cell_type": "code",
   "execution_count": 15,
   "metadata": {},
   "outputs": [],
   "source": [
    "# Usando otro enfoque que no sea usando GridSearch\n",
    "from sklearn.metrics import mean_squared_error"
   ]
  },
  {
   "cell_type": "code",
   "execution_count": 16,
   "metadata": {},
   "outputs": [],
   "source": [
    "dtr_mse_train = []\n",
    "dtr_mse_test = []"
   ]
  },
  {
   "cell_type": "code",
   "execution_count": 17,
   "metadata": {},
   "outputs": [],
   "source": [
    "for i in range(2, 16):\n",
    "    dtr = DecisionTreeRegressor(max_depth=i)\n",
    "    dtr.fit(X_train, y_train)\n",
    "    y_som_train = dtr.predict(X_train)\n",
    "    dtr_mse_train.append(np.sqrt(mean_squared_error(y_train, y_som_train)))\n",
    "    y_som_test = dtr.predict(X_test)\n",
    "    dtr_mse_test.append(np.sqrt(mean_squared_error(y_test, y_som_test)))"
   ]
  },
  {
   "cell_type": "markdown",
   "metadata": {},
   "source": [
    "# Ejercicio 3: Métricas sobre el conjunto de evaluación."
   ]
  },
  {
   "cell_type": "markdown",
   "metadata": {},
   "source": [
    "Análizar como varia la función de coste según se modifican los hiperparametros, i.e, la profundidad de los mismos, etc.\n",
    "\n",
    "Graficar los valores de la función costo en ambos conjuntos, de entrenamiento (o training) y evaluación (o test)."
   ]
  },
  {
   "cell_type": "code",
   "execution_count": 18,
   "metadata": {},
   "outputs": [
    {
     "data": {
      "image/png": "[encoded data removed]",
      "text/plain": [
       "<Figure size 432x288 with 1 Axes>"
      ]
     },
     "metadata": {
      "needs_background": "light"
     },
     "output_type": "display_data"
    }
   ],
   "source": [
    "import matplotlib.pyplot as plt\n",
    "\n",
    "fig, ax = plt.subplots()\n",
    "ax.plot(range(2, 16), dtr_mse_train, 'r', label='Train')\n",
    "ax.plot(range(2, 16), dtr_mse_test, 'b', label='Test')\n",
    "ax.set_xlabel(\"max_depth\")\n",
    "ax.set_ylabel(\"Root MSE\")\n",
    "leg = ax.legend();\n"
   ]
  },
  {
   "cell_type": "code",
   "execution_count": 20,
   "metadata": {},
   "outputs": [
    {
     "name": "stdout",
     "output_type": "stream",
     "text": [
      "65370.22669596693\n"
     ]
    }
   ],
   "source": [
    "print(min(dtr_mse_test))"
   ]
  },
  {
   "cell_type": "markdown",
   "metadata": {},
   "source": [
    "# Ejercicio 4: Realizar lo mismo ahora con un modelo de KNN"
   ]
  },
  {
   "cell_type": "markdown",
   "metadata": {},
   "source": [
    "Entrenar un KNN y analizar su comportamiento como en el modelo anterior."
   ]
  },
  {
   "cell_type": "code",
   "execution_count": 21,
   "metadata": {},
   "outputs": [],
   "source": [
    "from sklearn.neighbors import KNeighborsRegressor"
   ]
  },
  {
   "cell_type": "code",
   "execution_count": 22,
   "metadata": {},
   "outputs": [],
   "source": [
    "knr_mse_train = []\n",
    "knr_mse_test = []"
   ]
  },
  {
   "cell_type": "code",
   "execution_count": 23,
   "metadata": {},
   "outputs": [],
   "source": [
    "for i in range(2, 15):\n",
    "    knr = KNeighborsRegressor(n_neighbors=i)\n",
    "    knr.fit(X_train, y_train)\n",
    "    y_som_train = knr.predict(X_train)\n",
    "    knr_mse_train.append(np.sqrt(mean_squared_error(y_train, y_som_train)))\n",
    "    y_som_test = knr.predict(X_test)\n",
    "    knr_mse_test.append(np.sqrt(mean_squared_error(y_test, y_som_test)))"
   ]
  },
  {
   "cell_type": "code",
   "execution_count": 24,
   "metadata": {
    "scrolled": true
   },
   "outputs": [
    {
     "data": {
      "image/png": "[encoded data removed]",
      "text/plain": [
       "<Figure size 432x288 with 1 Axes>"
      ]
     },
     "metadata": {
      "needs_background": "light"
     },
     "output_type": "display_data"
    }
   ],
   "source": [
    "fig, ax = plt.subplots()\n",
    "ax.plot(range(2, 15), knr_mse_train, 'r', label='Train')\n",
    "ax.plot(range(2, 15), knr_mse_test, 'b', label='Test')\n",
    "ax.set_xlabel(\"n_neighbors\")\n",
    "ax.set_ylabel(\"Root MSE\")\n",
    "leg = ax.legend();"
   ]
  },
  {
   "cell_type": "code",
   "execution_count": 26,
   "metadata": {},
   "outputs": [
    {
     "name": "stdout",
     "output_type": "stream",
     "text": [
      "66675.52992880746\n"
     ]
    }
   ],
   "source": [
    "print(min(knr_mse_test))"
   ]
  },
  {
   "cell_type": "markdown",
   "metadata": {},
   "source": [
    "# Informe final"
   ]
  },
  {
   "cell_type": "markdown",
   "metadata": {},
   "source": [
    "Presentar un informe final con los datos inferidos del dataset utilizando herramientas gráficas y escritas teniendo en cuenta los destinatarios. En este caso colegas de la diplomatura para preparar el informe con un background adecuado al destinatario."
   ]
  },
  {
   "cell_type": "code",
   "execution_count": null,
   "metadata": {},
   "outputs": [],
   "source": [
    "# INFORME ESCRITO\n",
    "#\n",
    "# Dado los resultados de ambos algoritmos queda claro que el más robusti a pesar de su indestabilidad\n",
    "# es el Arbol, porque KNN tanto las curvas de test y train no llegan si quiera a acercarse.\n",
    "# Igual por los resultados se puede concluir que se necesita un mayor trabajo sobre el dataset\n",
    "# ya sea creando nuevos atributos o seguir procesando más los datos, por ejemplo aplicar estadarización.\n",
    "# Eso queda para un futuro cuando se disponga de más tiempo para ello."
   ]
  }
 ],
 "metadata": {
  "kernelspec": {
   "display_name": "Python 3",
   "language": "python",
   "name": "python3"
  },
  "language_info": {
   "codemirror_mode": {
    "name": "ipython",
    "version": 3
   },
   "file_extension": ".py",
   "mimetype": "text/x-python",
   "name": "python",
   "nbconvert_exporter": "python",
   "pygments_lexer": "ipython3",
   "version": "3.7.3"
  }
 },
 "nbformat": 4,
 "nbformat_minor": 2
}
