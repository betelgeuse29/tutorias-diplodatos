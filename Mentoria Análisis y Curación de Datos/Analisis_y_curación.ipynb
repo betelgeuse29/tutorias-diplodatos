{
 "cells": [
  {
   "cell_type": "markdown",
   "metadata": {},
   "source": [
    "# Proyecto: Análisis del mercado inmobiliario de la Ciudad de Buenos Aires"
   ]
  },
  {
   "cell_type": "markdown",
   "metadata": {},
   "source": [
    "Mentor: Javier Lezama."
   ]
  },
  {
   "cell_type": "markdown",
   "metadata": {},
   "source": [
    "javitolez@gmail.com"
   ]
  },
  {
   "cell_type": "markdown",
   "metadata": {},
   "source": [
    "En este proyecto vamos a trabajar con un dataset de propiedades en venta publicadas en el portal www.Properati.com.ar."
   ]
  },
  {
   "cell_type": "markdown",
   "metadata": {},
   "source": [
    "#### Autor:: Pablo Borja"
   ]
  },
  {
   "cell_type": "markdown",
   "metadata": {},
   "source": [
    "# El dataset: propiedades en venta en Ciudad de Buenos Aires."
   ]
  },
  {
   "cell_type": "markdown",
   "metadata": {},
   "source": [
    "En este proyecto, trabajaremos con una muestra del conjunto de datos de propiedades en venta mencionado. En este dataset, cada fila es una propiedad en venta. \n",
    "\n",
    "#Los atributos\n",
    "\n",
    "A continuación vamos a describir los atributos que consideramos en esta muestra:\n",
    "* id: id de la propiedad\n",
    "* created_on: fecha en la que la propiedad ingresó al sitio\n",
    "* operation: alquiler (rent) o venta (sell)\n",
    "* property_type: tipo de propiedad (casa, departamento, ph, etcétera)\n",
    "* place_with_parent_names: nombre del lugar donde se encuentra la propiedad según el publicador\n",
    "* lat-lon: coordenadas concatenadas\n",
    "* lat: latitud\n",
    "* lon: longitud\n",
    "* price: precio en la moneda especificada en currency\n",
    "* currency: divisa en la que está expresada la publicación\n",
    "* price_aprox_usd: precio aproximado en dólares estadounidenses\n",
    "* surface_total_in_m2: superficie total (en metros cuadrados)\n",
    "* surface_covered_in_m2: superficie cubierta (en metros cuadrados)\n",
    "* price_usd_per_m2: precio por metro cuadrado en dólares (precio dólares / superficie)\n",
    "* floor: número de piso (si corresponde)\n",
    "* rooms: cantidad de ambientes\n",
    "* expenses: expensas (si corresponde)\n",
    "* barrio: barrio según cartografía oficial\n",
    "* properati_url: url de la publicación en Properati"
   ]
  },
  {
   "cell_type": "markdown",
   "metadata": {},
   "source": [
    "Objetivos del practico de análisis y curación:\n",
    "\n",
    "El objetivo de este practico es trabajar con el mismo dateset trabajado en el practico uno y dejarlo curado, es decir limpiado, sin datos faltantes, para ya poder trabajarlo en los próximos prácticos, con una dateset curado con todas las instancias no nulas, hacer el adecuado análisis de las variables categóricas, etc."
   ]
  },
  {
   "cell_type": "markdown",
   "metadata": {},
   "source": [
    "# Manos a la obra"
   ]
  },
  {
   "cell_type": "markdown",
   "metadata": {},
   "source": [
    "Dado que ya lo trabajamos en el proyecto anterior, en este caso trabajaremos solo con casas (house), departamentos (apartment) y PH (PH)."
   ]
  },
  {
   "cell_type": "markdown",
   "metadata": {},
   "source": [
    "\n",
    "Se comienza leyendo el dataset original y se filtran las instancias que nos interesan.\n",
    "Luego se analizan los tipos de columnas y se buscan los caracteres especiales en las columnas que sean de tipo String."
   ]
  },
  {
   "cell_type": "code",
   "execution_count": 80,
   "metadata": {},
   "outputs": [],
   "source": [
    "import pandas as pd"
   ]
  },
  {
   "cell_type": "code",
   "execution_count": 81,
   "metadata": {},
   "outputs": [],
   "source": [
    "date_parser = lambda x: pd.datetime.strptime(x, '%Y-%m-%d')\n",
    "df = pd.read_csv('../Mentoria Analisis y Visualización de Datos/datos_properati.csv',\n",
    "                 parse_dates=['created_on'], \n",
    "                 date_parser=date_parser)"
   ]
  },
  {
   "cell_type": "code",
   "execution_count": 82,
   "metadata": {},
   "outputs": [
    {
     "data": {
      "text/plain": [
       "created_on                 datetime64[ns]\n",
       "operation                          object\n",
       "property_type                      object\n",
       "place_with_parent_names            object\n",
       "lat-lon                            object\n",
       "lat                               float64\n",
       "lon                               float64\n",
       "price_aprox_usd                   float64\n",
       "surface_total_in_m2               float64\n",
       "surface_covered_in_m2             float64\n",
       "price_usd_per_m2                  float64\n",
       "floor                             float64\n",
       "rooms                             float64\n",
       "expenses                          float64\n",
       "properati_url                      object\n",
       "barrio                             object\n",
       "comuna                            float64\n",
       "dtype: object"
      ]
     },
     "execution_count": 82,
     "metadata": {},
     "output_type": "execute_result"
    }
   ],
   "source": [
    "df.dtypes"
   ]
  },
  {
   "cell_type": "code",
   "execution_count": null,
   "metadata": {},
   "outputs": [],
   "source": []
  },
  {
   "cell_type": "markdown",
   "metadata": {},
   "source": [
    "# Caracteres especiales"
   ]
  },
  {
   "cell_type": "markdown",
   "metadata": {},
   "source": [
    "Filtrar el dataset en busca de caracteres especiales, si los hay."
   ]
  },
  {
   "cell_type": "code",
   "execution_count": 1,
   "metadata": {},
   "outputs": [],
   "source": [
    "Cuando se tienen caracteres que no son reconocidos por el encoding por defecto,\n",
    "hubiera habido algún error al crear el DataFrame.\n",
    "Pero como o hubo ninguno, se puede inferir que los caracteres del dataset son legibles \n",
    "por lo que no se necesita un forma de parsearlo o corregirlos.\n",
    "Sin embargo podría ser útil, revisar los nombres de las columnas para ver algún caracter extraño."
   ]
  },
  {
   "cell_type": "markdown",
   "metadata": {},
   "source": [
    "# Chequear si hay datos duplicados"
   ]
  },
  {
   "cell_type": "markdown",
   "metadata": {},
   "source": [
    "\n",
    "Chequear que no hay datos duplicados, si los hay decidir que hacer con los mismos."
   ]
  },
  {
   "cell_type": "code",
   "execution_count": 83,
   "metadata": {},
   "outputs": [
    {
     "data": {
      "text/plain": [
       "0"
      ]
     },
     "execution_count": 83,
     "metadata": {},
     "output_type": "execute_result"
    }
   ],
   "source": [
    "Se toma el punto de vista de que se va a buscar filas duplicadas.\n",
    "Se va a utilizar la función de duplicated()\n",
    "df.duplicated().sum()"
   ]
  },
  {
   "cell_type": "markdown",
   "metadata": {},
   "source": [
    "# Codificar variables"
   ]
  },
  {
   "cell_type": "markdown",
   "metadata": {},
   "source": [
    "Para trabajar con los algoritmos de aprendizaje automático, próximos módulos, las variables categóricas estas deben ser codificadas como variables numéricas, no como cadenas."
   ]
  },
  {
   "cell_type": "markdown",
   "metadata": {},
   "source": [
    "Para esta tarea también hay diferentes estrategias, dos comunes son: asociar cadena a número y asociar cadena a columna."
   ]
  },
  {
   "cell_type": "markdown",
   "metadata": {},
   "source": [
    "Codificar el label Barrio con ambas estrategias."
   ]
  },
  {
   "cell_type": "code",
   "execution_count": 84,
   "metadata": {},
   "outputs": [],
   "source": [
    "df_copy = df.copy()"
   ]
  },
  {
   "cell_type": "code",
   "execution_count": 85,
   "metadata": {},
   "outputs": [],
   "source": [
    "# Usaremos los módulos de preprocesamiento de la libreria de scikitlearn.\n",
    "from sklearn.preprocessing import LabelEncoder, OneHotEncoder"
   ]
  },
  {
   "cell_type": "code",
   "execution_count": 86,
   "metadata": {},
   "outputs": [
    {
     "data": {
      "text/html": [
       "<div>\n",
       "<style scoped>\n",
       "    .dataframe tbody tr th:only-of-type {\n",
       "        vertical-align: middle;\n",
       "    }\n",
       "\n",
       "    .dataframe tbody tr th {\n",
       "        vertical-align: top;\n",
       "    }\n",
       "\n",
       "    .dataframe thead th {\n",
       "        text-align: right;\n",
       "    }\n",
       "</style>\n",
       "<table border=\"1\" class=\"dataframe\">\n",
       "  <thead>\n",
       "    <tr style=\"text-align: right;\">\n",
       "      <th></th>\n",
       "      <th>created_on</th>\n",
       "      <th>operation</th>\n",
       "      <th>property_type</th>\n",
       "      <th>place_with_parent_names</th>\n",
       "      <th>lat-lon</th>\n",
       "      <th>lat</th>\n",
       "      <th>lon</th>\n",
       "      <th>price_aprox_usd</th>\n",
       "      <th>surface_total_in_m2</th>\n",
       "      <th>surface_covered_in_m2</th>\n",
       "      <th>price_usd_per_m2</th>\n",
       "      <th>floor</th>\n",
       "      <th>rooms</th>\n",
       "      <th>expenses</th>\n",
       "      <th>properati_url</th>\n",
       "      <th>barrio</th>\n",
       "      <th>comuna</th>\n",
       "    </tr>\n",
       "  </thead>\n",
       "  <tbody>\n",
       "    <tr>\n",
       "      <th>0</th>\n",
       "      <td>2017-09-22</td>\n",
       "      <td>sell</td>\n",
       "      <td>house</td>\n",
       "      <td>|Argentina|Capital Federal|Palermo|Palermo Viejo|</td>\n",
       "      <td>-34.5889531469,-58.4298817776</td>\n",
       "      <td>-34.588953</td>\n",
       "      <td>-58.429882</td>\n",
       "      <td>2000000.0</td>\n",
       "      <td>312.0</td>\n",
       "      <td>NaN</td>\n",
       "      <td>6410.256410</td>\n",
       "      <td>NaN</td>\n",
       "      <td>NaN</td>\n",
       "      <td>NaN</td>\n",
       "      <td>https://www.properati.com.ar/2os_venta_casa_pa...</td>\n",
       "      <td>20</td>\n",
       "      <td>14.0</td>\n",
       "    </tr>\n",
       "    <tr>\n",
       "      <th>1</th>\n",
       "      <td>2017-08-01</td>\n",
       "      <td>sell</td>\n",
       "      <td>store</td>\n",
       "      <td>|Argentina|Capital Federal|Palermo|</td>\n",
       "      <td>-34.586069,-58.414431</td>\n",
       "      <td>-34.586069</td>\n",
       "      <td>-58.414431</td>\n",
       "      <td>790000.0</td>\n",
       "      <td>121.0</td>\n",
       "      <td>121.0</td>\n",
       "      <td>6528.925620</td>\n",
       "      <td>NaN</td>\n",
       "      <td>NaN</td>\n",
       "      <td>NaN</td>\n",
       "      <td>https://www.properati.com.ar/1cl7l_venta_local...</td>\n",
       "      <td>20</td>\n",
       "      <td>14.0</td>\n",
       "    </tr>\n",
       "    <tr>\n",
       "      <th>2</th>\n",
       "      <td>2017-08-02</td>\n",
       "      <td>sell</td>\n",
       "      <td>store</td>\n",
       "      <td>|Argentina|Capital Federal|Palermo|Palermo Soho|</td>\n",
       "      <td>-34.589723,-58.4325664</td>\n",
       "      <td>-34.589723</td>\n",
       "      <td>-58.432566</td>\n",
       "      <td>343000.0</td>\n",
       "      <td>122.0</td>\n",
       "      <td>108.0</td>\n",
       "      <td>2811.475410</td>\n",
       "      <td>NaN</td>\n",
       "      <td>2.0</td>\n",
       "      <td>NaN</td>\n",
       "      <td>https://www.properati.com.ar/1cm8w_venta_local...</td>\n",
       "      <td>20</td>\n",
       "      <td>14.0</td>\n",
       "    </tr>\n",
       "    <tr>\n",
       "      <th>3</th>\n",
       "      <td>2017-08-03</td>\n",
       "      <td>sell</td>\n",
       "      <td>store</td>\n",
       "      <td>|Argentina|Capital Federal|Palermo|</td>\n",
       "      <td>-34.5923646,-58.4144028</td>\n",
       "      <td>-34.592365</td>\n",
       "      <td>-58.414403</td>\n",
       "      <td>145000.0</td>\n",
       "      <td>24.0</td>\n",
       "      <td>24.0</td>\n",
       "      <td>6041.666667</td>\n",
       "      <td>NaN</td>\n",
       "      <td>NaN</td>\n",
       "      <td>NaN</td>\n",
       "      <td>https://www.properati.com.ar/1covk_venta_local...</td>\n",
       "      <td>20</td>\n",
       "      <td>14.0</td>\n",
       "    </tr>\n",
       "    <tr>\n",
       "      <th>4</th>\n",
       "      <td>2017-08-08</td>\n",
       "      <td>sell</td>\n",
       "      <td>store</td>\n",
       "      <td>|Argentina|Capital Federal|Barrio Norte|</td>\n",
       "      <td>-34.585652875,-58.4114933233</td>\n",
       "      <td>-34.585653</td>\n",
       "      <td>-58.411493</td>\n",
       "      <td>175000.0</td>\n",
       "      <td>24.0</td>\n",
       "      <td>24.0</td>\n",
       "      <td>7291.666667</td>\n",
       "      <td>NaN</td>\n",
       "      <td>NaN</td>\n",
       "      <td>NaN</td>\n",
       "      <td>https://www.properati.com.ar/1csk7_venta_local...</td>\n",
       "      <td>20</td>\n",
       "      <td>14.0</td>\n",
       "    </tr>\n",
       "  </tbody>\n",
       "</table>\n",
       "</div>"
      ],
      "text/plain": [
       "  created_on operation property_type  \\\n",
       "0 2017-09-22      sell         house   \n",
       "1 2017-08-01      sell         store   \n",
       "2 2017-08-02      sell         store   \n",
       "3 2017-08-03      sell         store   \n",
       "4 2017-08-08      sell         store   \n",
       "\n",
       "                             place_with_parent_names  \\\n",
       "0  |Argentina|Capital Federal|Palermo|Palermo Viejo|   \n",
       "1                |Argentina|Capital Federal|Palermo|   \n",
       "2   |Argentina|Capital Federal|Palermo|Palermo Soho|   \n",
       "3                |Argentina|Capital Federal|Palermo|   \n",
       "4           |Argentina|Capital Federal|Barrio Norte|   \n",
       "\n",
       "                         lat-lon        lat        lon  price_aprox_usd  \\\n",
       "0  -34.5889531469,-58.4298817776 -34.588953 -58.429882        2000000.0   \n",
       "1          -34.586069,-58.414431 -34.586069 -58.414431         790000.0   \n",
       "2         -34.589723,-58.4325664 -34.589723 -58.432566         343000.0   \n",
       "3        -34.5923646,-58.4144028 -34.592365 -58.414403         145000.0   \n",
       "4   -34.585652875,-58.4114933233 -34.585653 -58.411493         175000.0   \n",
       "\n",
       "   surface_total_in_m2  surface_covered_in_m2  price_usd_per_m2  floor  rooms  \\\n",
       "0                312.0                    NaN       6410.256410    NaN    NaN   \n",
       "1                121.0                  121.0       6528.925620    NaN    NaN   \n",
       "2                122.0                  108.0       2811.475410    NaN    2.0   \n",
       "3                 24.0                   24.0       6041.666667    NaN    NaN   \n",
       "4                 24.0                   24.0       7291.666667    NaN    NaN   \n",
       "\n",
       "   expenses                                      properati_url  barrio  comuna  \n",
       "0       NaN  https://www.properati.com.ar/2os_venta_casa_pa...      20    14.0  \n",
       "1       NaN  https://www.properati.com.ar/1cl7l_venta_local...      20    14.0  \n",
       "2       NaN  https://www.properati.com.ar/1cm8w_venta_local...      20    14.0  \n",
       "3       NaN  https://www.properati.com.ar/1covk_venta_local...      20    14.0  \n",
       "4       NaN  https://www.properati.com.ar/1csk7_venta_local...      20    14.0  "
      ]
     },
     "execution_count": 86,
     "metadata": {},
     "output_type": "execute_result"
    }
   ],
   "source": [
    "# Asociaremos cadena a número.\n",
    "le = LabelEncoder()\n",
    "df_copy['barrio'] = le.fit_transform(df_copy['barrio'])\n",
    "df_copy.head()"
   ]
  },
  {
   "cell_type": "code",
   "execution_count": 87,
   "metadata": {},
   "outputs": [
    {
     "data": {
      "text/plain": [
       "array(['AGRONOMIA', 'ALMAGRO', 'BALVANERA', 'BARRACAS', 'BELGRANO',\n",
       "       'BOCA', 'BOEDO', 'CABALLITO', 'CHACARITA', 'COGHLAN', 'COLEGIALES',\n",
       "       'CONSTITUCION', 'FLORES', 'FLORESTA', 'LINIERS', 'MATADEROS',\n",
       "       'MONSERRAT', 'MONTE CASTRO', 'NUEVA POMPEYA', 'NUEZ', 'PALERMO',\n",
       "       'PARQUE AVELLANEDA', 'PARQUE CHACABUCO', 'PARQUE CHAS',\n",
       "       'PARQUE PATRICIOS', 'PATERNAL', 'PUERTO MADERO', 'RECOLETA',\n",
       "       'RETIRO', 'SAAVEDRA', 'SAN CRISTOBAL', 'SAN NICOLAS', 'SAN TELMO',\n",
       "       'VELEZ SARSFIELD', 'VERSALLES', 'VILLA CRESPO', 'VILLA DEL PARQUE',\n",
       "       'VILLA DEVOTO', 'VILLA GRAL. MITRE', 'VILLA LUGANO', 'VILLA LURO',\n",
       "       'VILLA ORTUZAR', 'VILLA PUEYRREDON', 'VILLA REAL',\n",
       "       'VILLA RIACHUELO', 'VILLA SANTA RITA', 'VILLA SOLDATI',\n",
       "       'VILLA URQUIZA'], dtype=object)"
      ]
     },
     "execution_count": 87,
     "metadata": {},
     "output_type": "execute_result"
    }
   ],
   "source": [
    "# Mostrar las clases del Label Encoder\n",
    "le.classes_"
   ]
  },
  {
   "cell_type": "code",
   "execution_count": 88,
   "metadata": {},
   "outputs": [],
   "source": [
    "df_copy = pd.get_dummies(df, columns=['barrio'], prefix='barrio')"
   ]
  },
  {
   "cell_type": "code",
   "execution_count": 89,
   "metadata": {},
   "outputs": [
    {
     "data": {
      "text/html": [
       "<div>\n",
       "<style scoped>\n",
       "    .dataframe tbody tr th:only-of-type {\n",
       "        vertical-align: middle;\n",
       "    }\n",
       "\n",
       "    .dataframe tbody tr th {\n",
       "        vertical-align: top;\n",
       "    }\n",
       "\n",
       "    .dataframe thead th {\n",
       "        text-align: right;\n",
       "    }\n",
       "</style>\n",
       "<table border=\"1\" class=\"dataframe\">\n",
       "  <thead>\n",
       "    <tr style=\"text-align: right;\">\n",
       "      <th></th>\n",
       "      <th>created_on</th>\n",
       "      <th>operation</th>\n",
       "      <th>property_type</th>\n",
       "      <th>place_with_parent_names</th>\n",
       "      <th>lat-lon</th>\n",
       "      <th>lat</th>\n",
       "      <th>lon</th>\n",
       "      <th>price_aprox_usd</th>\n",
       "      <th>surface_total_in_m2</th>\n",
       "      <th>surface_covered_in_m2</th>\n",
       "      <th>...</th>\n",
       "      <th>barrio_VILLA GRAL. MITRE</th>\n",
       "      <th>barrio_VILLA LUGANO</th>\n",
       "      <th>barrio_VILLA LURO</th>\n",
       "      <th>barrio_VILLA ORTUZAR</th>\n",
       "      <th>barrio_VILLA PUEYRREDON</th>\n",
       "      <th>barrio_VILLA REAL</th>\n",
       "      <th>barrio_VILLA RIACHUELO</th>\n",
       "      <th>barrio_VILLA SANTA RITA</th>\n",
       "      <th>barrio_VILLA SOLDATI</th>\n",
       "      <th>barrio_VILLA URQUIZA</th>\n",
       "    </tr>\n",
       "  </thead>\n",
       "  <tbody>\n",
       "    <tr>\n",
       "      <th>0</th>\n",
       "      <td>2017-09-22</td>\n",
       "      <td>sell</td>\n",
       "      <td>house</td>\n",
       "      <td>|Argentina|Capital Federal|Palermo|Palermo Viejo|</td>\n",
       "      <td>-34.5889531469,-58.4298817776</td>\n",
       "      <td>-34.588953</td>\n",
       "      <td>-58.429882</td>\n",
       "      <td>2000000.0</td>\n",
       "      <td>312.0</td>\n",
       "      <td>NaN</td>\n",
       "      <td>...</td>\n",
       "      <td>0</td>\n",
       "      <td>0</td>\n",
       "      <td>0</td>\n",
       "      <td>0</td>\n",
       "      <td>0</td>\n",
       "      <td>0</td>\n",
       "      <td>0</td>\n",
       "      <td>0</td>\n",
       "      <td>0</td>\n",
       "      <td>0</td>\n",
       "    </tr>\n",
       "    <tr>\n",
       "      <th>1</th>\n",
       "      <td>2017-08-01</td>\n",
       "      <td>sell</td>\n",
       "      <td>store</td>\n",
       "      <td>|Argentina|Capital Federal|Palermo|</td>\n",
       "      <td>-34.586069,-58.414431</td>\n",
       "      <td>-34.586069</td>\n",
       "      <td>-58.414431</td>\n",
       "      <td>790000.0</td>\n",
       "      <td>121.0</td>\n",
       "      <td>121.0</td>\n",
       "      <td>...</td>\n",
       "      <td>0</td>\n",
       "      <td>0</td>\n",
       "      <td>0</td>\n",
       "      <td>0</td>\n",
       "      <td>0</td>\n",
       "      <td>0</td>\n",
       "      <td>0</td>\n",
       "      <td>0</td>\n",
       "      <td>0</td>\n",
       "      <td>0</td>\n",
       "    </tr>\n",
       "    <tr>\n",
       "      <th>2</th>\n",
       "      <td>2017-08-02</td>\n",
       "      <td>sell</td>\n",
       "      <td>store</td>\n",
       "      <td>|Argentina|Capital Federal|Palermo|Palermo Soho|</td>\n",
       "      <td>-34.589723,-58.4325664</td>\n",
       "      <td>-34.589723</td>\n",
       "      <td>-58.432566</td>\n",
       "      <td>343000.0</td>\n",
       "      <td>122.0</td>\n",
       "      <td>108.0</td>\n",
       "      <td>...</td>\n",
       "      <td>0</td>\n",
       "      <td>0</td>\n",
       "      <td>0</td>\n",
       "      <td>0</td>\n",
       "      <td>0</td>\n",
       "      <td>0</td>\n",
       "      <td>0</td>\n",
       "      <td>0</td>\n",
       "      <td>0</td>\n",
       "      <td>0</td>\n",
       "    </tr>\n",
       "    <tr>\n",
       "      <th>3</th>\n",
       "      <td>2017-08-03</td>\n",
       "      <td>sell</td>\n",
       "      <td>store</td>\n",
       "      <td>|Argentina|Capital Federal|Palermo|</td>\n",
       "      <td>-34.5923646,-58.4144028</td>\n",
       "      <td>-34.592365</td>\n",
       "      <td>-58.414403</td>\n",
       "      <td>145000.0</td>\n",
       "      <td>24.0</td>\n",
       "      <td>24.0</td>\n",
       "      <td>...</td>\n",
       "      <td>0</td>\n",
       "      <td>0</td>\n",
       "      <td>0</td>\n",
       "      <td>0</td>\n",
       "      <td>0</td>\n",
       "      <td>0</td>\n",
       "      <td>0</td>\n",
       "      <td>0</td>\n",
       "      <td>0</td>\n",
       "      <td>0</td>\n",
       "    </tr>\n",
       "    <tr>\n",
       "      <th>4</th>\n",
       "      <td>2017-08-08</td>\n",
       "      <td>sell</td>\n",
       "      <td>store</td>\n",
       "      <td>|Argentina|Capital Federal|Barrio Norte|</td>\n",
       "      <td>-34.585652875,-58.4114933233</td>\n",
       "      <td>-34.585653</td>\n",
       "      <td>-58.411493</td>\n",
       "      <td>175000.0</td>\n",
       "      <td>24.0</td>\n",
       "      <td>24.0</td>\n",
       "      <td>...</td>\n",
       "      <td>0</td>\n",
       "      <td>0</td>\n",
       "      <td>0</td>\n",
       "      <td>0</td>\n",
       "      <td>0</td>\n",
       "      <td>0</td>\n",
       "      <td>0</td>\n",
       "      <td>0</td>\n",
       "      <td>0</td>\n",
       "      <td>0</td>\n",
       "    </tr>\n",
       "  </tbody>\n",
       "</table>\n",
       "<p>5 rows × 64 columns</p>\n",
       "</div>"
      ],
      "text/plain": [
       "  created_on operation property_type  \\\n",
       "0 2017-09-22      sell         house   \n",
       "1 2017-08-01      sell         store   \n",
       "2 2017-08-02      sell         store   \n",
       "3 2017-08-03      sell         store   \n",
       "4 2017-08-08      sell         store   \n",
       "\n",
       "                             place_with_parent_names  \\\n",
       "0  |Argentina|Capital Federal|Palermo|Palermo Viejo|   \n",
       "1                |Argentina|Capital Federal|Palermo|   \n",
       "2   |Argentina|Capital Federal|Palermo|Palermo Soho|   \n",
       "3                |Argentina|Capital Federal|Palermo|   \n",
       "4           |Argentina|Capital Federal|Barrio Norte|   \n",
       "\n",
       "                         lat-lon        lat        lon  price_aprox_usd  \\\n",
       "0  -34.5889531469,-58.4298817776 -34.588953 -58.429882        2000000.0   \n",
       "1          -34.586069,-58.414431 -34.586069 -58.414431         790000.0   \n",
       "2         -34.589723,-58.4325664 -34.589723 -58.432566         343000.0   \n",
       "3        -34.5923646,-58.4144028 -34.592365 -58.414403         145000.0   \n",
       "4   -34.585652875,-58.4114933233 -34.585653 -58.411493         175000.0   \n",
       "\n",
       "   surface_total_in_m2  surface_covered_in_m2  ...  barrio_VILLA GRAL. MITRE  \\\n",
       "0                312.0                    NaN  ...                         0   \n",
       "1                121.0                  121.0  ...                         0   \n",
       "2                122.0                  108.0  ...                         0   \n",
       "3                 24.0                   24.0  ...                         0   \n",
       "4                 24.0                   24.0  ...                         0   \n",
       "\n",
       "   barrio_VILLA LUGANO  barrio_VILLA LURO  barrio_VILLA ORTUZAR  \\\n",
       "0                    0                  0                     0   \n",
       "1                    0                  0                     0   \n",
       "2                    0                  0                     0   \n",
       "3                    0                  0                     0   \n",
       "4                    0                  0                     0   \n",
       "\n",
       "  barrio_VILLA PUEYRREDON  barrio_VILLA REAL  barrio_VILLA RIACHUELO  \\\n",
       "0                       0                  0                       0   \n",
       "1                       0                  0                       0   \n",
       "2                       0                  0                       0   \n",
       "3                       0                  0                       0   \n",
       "4                       0                  0                       0   \n",
       "\n",
       "   barrio_VILLA SANTA RITA  barrio_VILLA SOLDATI  barrio_VILLA URQUIZA  \n",
       "0                        0                     0                     0  \n",
       "1                        0                     0                     0  \n",
       "2                        0                     0                     0  \n",
       "3                        0                     0                     0  \n",
       "4                        0                     0                     0  \n",
       "\n",
       "[5 rows x 64 columns]"
      ]
     },
     "execution_count": 89,
     "metadata": {},
     "output_type": "execute_result"
    }
   ],
   "source": [
    "df_copy.head()"
   ]
  },
  {
   "cell_type": "markdown",
   "metadata": {},
   "source": [
    "# Outliers"
   ]
  },
  {
   "cell_type": "markdown",
   "metadata": {},
   "source": [
    "Analicemos en primer lugar los valores extremos que puede haber en los precios y en las superficies. Esto nos va a ser útil para luego imputar usando medidas de tendencia central, como el promedio. Recordemos que las medidas de tendencia central pueden ser sensibles a outliers, por lo que la imputación de valores faltantes puede verse afectada\n",
    "Una posible pregunta que surge es si conviene primero imputar faltantes y luego remover outliers, o lo contrario. Cuando se imputa se modifica la distribución de los datos. Por eso, las cotas que utilicemos para definir los outliers se verán afectadas por este cambio y modificarán los resultados finales. Entonces comenzaremos quitando outliers.\n",
    "Vamos a trabajar con price_usd_per_m2. Precios altos pueden corresponderse con grandes superficies, por lo que conviene analizar juntos ambos atributos. Veamos la distribución de los valores y un boxplot para comenzar a identificar los outliers."
   ]
  },
  {
   "cell_type": "markdown",
   "metadata": {},
   "source": [
    "1) Utilizá seaborn para hacer un distplot del precio por metro cuadrado. \n",
    "Hacer un drop de los valores NaN de esta columna antes de graficar."
   ]
  },
  {
   "cell_type": "code",
   "execution_count": 90,
   "metadata": {},
   "outputs": [],
   "source": [
    "import seaborn as sns\n",
    "import matplotlib.pyplot as plt"
   ]
  },
  {
   "cell_type": "code",
   "execution_count": 91,
   "metadata": {},
   "outputs": [
    {
     "data": {
      "text/plain": [
       "<matplotlib.axes._subplots.AxesSubplot at 0x7fdb00192710>"
      ]
     },
     "execution_count": 91,
     "metadata": {},
     "output_type": "execute_result"
    },
    {
     "data": {
      "image/png": "[encoded data removed]",
      "text/plain": [
       "<Figure size 1440x720 with 1 Axes>"
      ]
     },
     "metadata": {
      "needs_background": "light"
     },
     "output_type": "display_data"
    }
   ],
   "source": [
    "fig, ax = plt.subplots(figsize=(20,10))\n",
    "df_filtered = df.dropna(subset=['price_usd_per_m2'])\n",
    "sns.distplot(df_filtered['price_usd_per_m2'], ax=ax)"
   ]
  },
  {
   "cell_type": "markdown",
   "metadata": {},
   "source": [
    "2) Hacé un boxplot de la columna price_usd_per_m2"
   ]
  },
  {
   "cell_type": "code",
   "execution_count": 92,
   "metadata": {},
   "outputs": [
    {
     "data": {
      "text/plain": [
       "<matplotlib.axes._subplots.AxesSubplot at 0x7fdaf9d86978>"
      ]
     },
     "execution_count": 92,
     "metadata": {},
     "output_type": "execute_result"
    },
    {
     "data": {
      "image/png": "[encoded data removed]",
      "text/plain": [
       "<Figure size 1440x720 with 1 Axes>"
      ]
     },
     "metadata": {
      "needs_background": "light"
     },
     "output_type": "display_data"
    }
   ],
   "source": [
    "fig, ax = plt.subplots(figsize=(20,10))\n",
    "sns.boxplot(x=df_filtered['price_usd_per_m2'], ax=ax)"
   ]
  },
  {
   "cell_type": "markdown",
   "metadata": {},
   "source": [
    "¿A qué conclusión podemos llegar observando estas figuras? Responder"
   ]
  },
  {
   "cell_type": "code",
   "execution_count": 52,
   "metadata": {},
   "outputs": [],
   "source": [
    "# Respuesta\n",
    "# Existen outliers que están afectando a los datos, algunos muy marcados.\n",
    "# En la parte inferior de la distribucion parece haber valores con valor cero o muy cercanos. Probablemente sea\n",
    "# algú tipo de error cuando se ingresaron los datos.\n",
    "# Teniendo en cuenta a la parte superior, tambien existen una distribución muy alargada, pudiendose\n",
    "# corresponder a superficies muy grandes o errores en la entrada de los datos."
   ]
  },
  {
   "cell_type": "markdown",
   "metadata": {},
   "source": [
    "Para confirmar la presencia de outliers vamos a utilizar los percentiles.\n",
    "\n",
    "3) Describir la columna mostrando sus estadísticos"
   ]
  },
  {
   "cell_type": "code",
   "execution_count": 93,
   "metadata": {},
   "outputs": [
    {
     "data": {
      "text/plain": [
       "count     16037.000000\n",
       "mean       2760.408525\n",
       "std        1940.153216\n",
       "min           0.958333\n",
       "25%        1984.126984\n",
       "50%        2545.454545\n",
       "75%        3162.790698\n",
       "max      142450.141026\n",
       "Name: price_usd_per_m2, dtype: float64"
      ]
     },
     "execution_count": 93,
     "metadata": {},
     "output_type": "execute_result"
    }
   ],
   "source": [
    "# Estadisticos\n",
    "df_filtered['price_usd_per_m2'].describe()"
   ]
  },
  {
   "cell_type": "markdown",
   "metadata": {},
   "source": [
    "Estamos ante la presencia de valores extremos en ambas puntas de la distribución. Vamos a aplicar la técnica del rango intercuartílico para limpiarlos.\n",
    "\n",
    "Para obtener el rango tenemos que calcular la diferencia entre el tercer y el primer percentil. Luego en base a esto calcularemos los valores mínimos y máximos para definir qué observaciones serán descartadas.\n",
    "\n",
    "4) Aplicar la técnica del rango intercuartílico para limpiar el precio por metro cuadrado. El resultado deberá ser un dataframe llamado df_filtered sin los outliers."
   ]
  },
  {
   "cell_type": "code",
   "execution_count": 94,
   "metadata": {},
   "outputs": [],
   "source": [
    "first_quartile = df_filtered['price_usd_per_m2'].quantile(q=0.25)\n",
    "third_quartile = df_filtered['price_usd_per_m2'].quantile(q=0.75)\n",
    "interquartile_range = third_quartile - first_quartile"
   ]
  },
  {
   "cell_type": "code",
   "execution_count": 95,
   "metadata": {},
   "outputs": [],
   "source": [
    "lower_bound = first_quartile - 1.5 * interquartile_range\n",
    "upper_bound = third_quartile + 1.5 * interquartile_range"
   ]
  },
  {
   "cell_type": "code",
   "execution_count": 96,
   "metadata": {},
   "outputs": [],
   "source": [
    "df_filtered = df_filtered[(df_filtered['price_usd_per_m2'] > lower_bound) & \n",
    "                          (df_filtered['price_usd_per_m2'] < upper_bound)]"
   ]
  },
  {
   "cell_type": "markdown",
   "metadata": {},
   "source": [
    "5) Volver a plotear con distplot y boxplot los precios sin los outliers y observá las diferencias con los anteriores ploteo."
   ]
  },
  {
   "cell_type": "code",
   "execution_count": 97,
   "metadata": {},
   "outputs": [
    {
     "data": {
      "text/plain": [
       "<matplotlib.axes._subplots.AxesSubplot at 0x7fdaf9982208>"
      ]
     },
     "execution_count": 97,
     "metadata": {},
     "output_type": "execute_result"
    },
    {
     "data": {
      "image/png": "[encoded data removed]",
      "text/plain": [
       "<Figure size 1440x720 with 1 Axes>"
      ]
     },
     "metadata": {
      "needs_background": "light"
     },
     "output_type": "display_data"
    }
   ],
   "source": [
    "fig, ax = plt.subplots(figsize=(20,10))\n",
    "sns.distplot(df_filtered['price_usd_per_m2'], ax=ax)"
   ]
  },
  {
   "cell_type": "code",
   "execution_count": 98,
   "metadata": {},
   "outputs": [
    {
     "data": {
      "text/plain": [
       "<matplotlib.axes._subplots.AxesSubplot at 0x7fdaf9918e10>"
      ]
     },
     "execution_count": 98,
     "metadata": {},
     "output_type": "execute_result"
    },
    {
     "data": {
      "image/png": "[encoded data removed]",
      "text/plain": [
       "<Figure size 1440x720 with 1 Axes>"
      ]
     },
     "metadata": {
      "needs_background": "light"
     },
     "output_type": "display_data"
    }
   ],
   "source": [
    "fig, ax = plt.subplots(figsize=(20,10))\n",
    "sns.boxplot(x=df_filtered['price_usd_per_m2'], ax=ax)"
   ]
  },
  {
   "cell_type": "markdown",
   "metadata": {},
   "source": [
    "6) Describir nuevamente la columna mostrando sus estadísticos."
   ]
  },
  {
   "cell_type": "code",
   "execution_count": 99,
   "metadata": {},
   "outputs": [
    {
     "data": {
      "text/plain": [
       "count    15131.000000\n",
       "mean      2528.832243\n",
       "std        847.113710\n",
       "min        239.726027\n",
       "25%       1956.521739\n",
       "50%       2500.000000\n",
       "75%       3046.153846\n",
       "max       4929.577465\n",
       "Name: price_usd_per_m2, dtype: float64"
      ]
     },
     "execution_count": 99,
     "metadata": {},
     "output_type": "execute_result"
    }
   ],
   "source": [
    "df_filtered['price_usd_per_m2'].describe()"
   ]
  },
  {
   "cell_type": "markdown",
   "metadata": {},
   "source": [
    "Vamos a seguir trabajando con el dataframe filtrado"
   ]
  },
  {
   "cell_type": "markdown",
   "metadata": {},
   "source": [
    "# Valores Faltantes"
   ]
  },
  {
   "cell_type": "markdown",
   "metadata": {},
   "source": [
    "A diferencia del proyecto pasado, vamos a intentar imputar los valores faltantes para los atributos que consideramos importantes para el mercado inmobiliario. \n",
    "\n",
    "Estos atributos son los que informan superficie (total o cubierta), cantidad de ambientes, precio y precio por metro cuadrado. \n",
    "Veamos en primer lugar cuántos valores faltantes tiene cada atributo. Nos interesa verlo como un porcentaje en relación a la cantidad de observaciones. Si un atributo tiene un elevado porcentaje de faltantes, puede ser mejor no considerarlo en el análisis."
   ]
  },
  {
   "cell_type": "markdown",
   "metadata": {},
   "source": [
    "Mostrar cual es el porcentaje de valores faltantes para cada columna."
   ]
  },
  {
   "cell_type": "code",
   "execution_count": 100,
   "metadata": {},
   "outputs": [],
   "source": [
    "df_missing_values = df_filtered.copy()"
   ]
  },
  {
   "cell_type": "code",
   "execution_count": 101,
   "metadata": {},
   "outputs": [
    {
     "data": {
      "text/plain": [
       "created_on                  0.000000\n",
       "operation                   0.000000\n",
       "property_type               0.000000\n",
       "place_with_parent_names     0.000000\n",
       "lat-lon                     0.000000\n",
       "lat                         0.000000\n",
       "lon                         0.000000\n",
       "price_aprox_usd             0.000000\n",
       "surface_total_in_m2         0.000000\n",
       "surface_covered_in_m2       3.866235\n",
       "price_usd_per_m2            0.000000\n",
       "floor                      83.722160\n",
       "rooms                      22.642258\n",
       "expenses                   78.421783\n",
       "properati_url               0.000000\n",
       "barrio                      0.000000\n",
       "comuna                      0.000000\n",
       "dtype: float64"
      ]
     },
     "execution_count": 101,
     "metadata": {},
     "output_type": "execute_result"
    }
   ],
   "source": [
    "df_missing_values.isna().sum()/df_missing_values.shape[0]*100"
   ]
  },
  {
   "cell_type": "markdown",
   "metadata": {},
   "source": [
    "Analizar y justificar que componente descartarían o no y porque. De quitarlos analizar si hay algún patrón para poder evitar quitarlos."
   ]
  },
  {
   "cell_type": "code",
   "execution_count": null,
   "metadata": {},
   "outputs": [],
   "source": [
    "Los atributos Floor y Expenses tienen muchos valores nulos, estas columnas no nos están aportando\n",
    "de información. Por lo que sería conveniente borrar estas columnas.\n",
    "# Agregar el tema de la dependencia de las columnas de pricing y surface, ademas de de la posbilidad \n",
    "# de poder chequear inconsistencias lógicas con surface covered y total."
   ]
  },
  {
   "cell_type": "markdown",
   "metadata": {},
   "source": [
    "# Imputación de datos"
   ]
  },
  {
   "cell_type": "markdown",
   "metadata": {},
   "source": [
    "Podemos ver en los resultados que los atributos floor y expenses tienen un elevado porcentaje de faltantes. Una opción sería descartar estas columnas en el análisis. Si elimináramos las observaciones (filas) asociadas a estos, apoximadamente el 80% de los datos, mermando demasiado el conjunto de datos.\n",
    "Otra opción sería por ejemplo considerar categorías como faltantes o no faltantes o en todo caso analizar si hay algún patrón para poder evitar quitarlos. \n",
    "Para avanzar con el proyecto, vamos a quitar esos atributos."
   ]
  },
  {
   "cell_type": "code",
   "execution_count": 102,
   "metadata": {
    "scrolled": true
   },
   "outputs": [],
   "source": [
    "df_missing_values.drop(columns=['floor', 'expenses'], axis=1, inplace=True)"
   ]
  },
  {
   "cell_type": "markdown",
   "metadata": {},
   "source": [
    "Analicemos estrategias para imputar los valores faltantes para los atributos rooms, surface_total_in_m2 y surface_covered_in_m2. Decidir qué estrategia tomar y realizar la imputación de los mismos."
   ]
  },
  {
   "cell_type": "code",
   "execution_count": 103,
   "metadata": {},
   "outputs": [],
   "source": [
    "# Para los atributos de suface su puede imputar los valores faltantes con el promedio. Sería la técnica más sencilla.\n",
    "from sklearn.impute import SimpleImputer\n",
    "import numpy as np"
   ]
  },
  {
   "cell_type": "code",
   "execution_count": 104,
   "metadata": {},
   "outputs": [],
   "source": [
    "imp = SimpleImputer(missing_values=np.nan, strategy='mean')"
   ]
  },
  {
   "cell_type": "code",
   "execution_count": 105,
   "metadata": {},
   "outputs": [],
   "source": [
    "df_missing_values['surface_covered_in_m2'] = imp.fit_transform(df_missing_values[['surface_covered_in_m2']])"
   ]
  },
  {
   "cell_type": "code",
   "execution_count": 106,
   "metadata": {},
   "outputs": [],
   "source": [
    "df_missing_values['surface_total_in_m2'] = imp.fit_transform(df_missing_values[['surface_total_in_m2']])"
   ]
  },
  {
   "cell_type": "code",
   "execution_count": 107,
   "metadata": {},
   "outputs": [],
   "source": [
    "imp2 = SimpleImputer(missing_values=np.nan, strategy='median')"
   ]
  },
  {
   "cell_type": "code",
   "execution_count": 108,
   "metadata": {},
   "outputs": [],
   "source": [
    "df_missing_values['rooms'] = imp2.fit_transform(df_missing_values[['rooms']])"
   ]
  },
  {
   "cell_type": "markdown",
   "metadata": {},
   "source": [
    "Una de las limitaciones que presenta los tipo de imputación es que provoca estimaciones sesgadas de la varianza. Esto impacta en los errores estandar y, por ende, en los tests estadístcos.\n",
    "\n",
    "Este tipo de técnicas es útil cuando los valores son completamente al azar. Chequear si ha sucedido esto según la estrategia utilizada en el punto anterior."
   ]
  },
  {
   "cell_type": "code",
   "execution_count": 109,
   "metadata": {},
   "outputs": [
    {
     "data": {
      "text/plain": [
       "created_on                 0\n",
       "operation                  0\n",
       "property_type              0\n",
       "place_with_parent_names    0\n",
       "lat-lon                    0\n",
       "lat                        0\n",
       "lon                        0\n",
       "price_aprox_usd            0\n",
       "surface_total_in_m2        0\n",
       "surface_covered_in_m2      0\n",
       "price_usd_per_m2           0\n",
       "rooms                      0\n",
       "properati_url              0\n",
       "barrio                     0\n",
       "comuna                     0\n",
       "dtype: int64"
      ]
     },
     "execution_count": 109,
     "metadata": {},
     "output_type": "execute_result"
    }
   ],
   "source": [
    "# Se chequea que no haya algún otro nan.\n",
    "df_missing_values.isna().sum()"
   ]
  },
  {
   "cell_type": "code",
   "execution_count": 110,
   "metadata": {},
   "outputs": [
    {
     "data": {
      "text/html": [
       "<div>\n",
       "<style scoped>\n",
       "    .dataframe tbody tr th:only-of-type {\n",
       "        vertical-align: middle;\n",
       "    }\n",
       "\n",
       "    .dataframe tbody tr th {\n",
       "        vertical-align: top;\n",
       "    }\n",
       "\n",
       "    .dataframe thead th {\n",
       "        text-align: right;\n",
       "    }\n",
       "</style>\n",
       "<table border=\"1\" class=\"dataframe\">\n",
       "  <thead>\n",
       "    <tr style=\"text-align: right;\">\n",
       "      <th></th>\n",
       "      <th>lat</th>\n",
       "      <th>lon</th>\n",
       "      <th>price_aprox_usd</th>\n",
       "      <th>surface_total_in_m2</th>\n",
       "      <th>surface_covered_in_m2</th>\n",
       "      <th>price_usd_per_m2</th>\n",
       "      <th>rooms</th>\n",
       "      <th>comuna</th>\n",
       "    </tr>\n",
       "  </thead>\n",
       "  <tbody>\n",
       "    <tr>\n",
       "      <th>count</th>\n",
       "      <td>15131.000000</td>\n",
       "      <td>15131.000000</td>\n",
       "      <td>1.513100e+04</td>\n",
       "      <td>15131.000000</td>\n",
       "      <td>15131.000000</td>\n",
       "      <td>15131.000000</td>\n",
       "      <td>15131.000000</td>\n",
       "      <td>15131.000000</td>\n",
       "    </tr>\n",
       "    <tr>\n",
       "      <th>mean</th>\n",
       "      <td>-34.599881</td>\n",
       "      <td>-58.434942</td>\n",
       "      <td>2.565434e+05</td>\n",
       "      <td>111.570154</td>\n",
       "      <td>98.677368</td>\n",
       "      <td>2528.832243</td>\n",
       "      <td>3.004098</td>\n",
       "      <td>8.014738</td>\n",
       "    </tr>\n",
       "    <tr>\n",
       "      <th>std</th>\n",
       "      <td>0.025862</td>\n",
       "      <td>0.039045</td>\n",
       "      <td>2.678539e+05</td>\n",
       "      <td>153.243359</td>\n",
       "      <td>228.599470</td>\n",
       "      <td>847.113710</td>\n",
       "      <td>1.540374</td>\n",
       "      <td>5.006154</td>\n",
       "    </tr>\n",
       "    <tr>\n",
       "      <th>min</th>\n",
       "      <td>-34.694841</td>\n",
       "      <td>-58.529858</td>\n",
       "      <td>9.862450e+03</td>\n",
       "      <td>10.000000</td>\n",
       "      <td>1.000000</td>\n",
       "      <td>239.726027</td>\n",
       "      <td>1.000000</td>\n",
       "      <td>1.000000</td>\n",
       "    </tr>\n",
       "    <tr>\n",
       "      <th>25%</th>\n",
       "      <td>-34.618980</td>\n",
       "      <td>-58.463133</td>\n",
       "      <td>1.190000e+05</td>\n",
       "      <td>47.000000</td>\n",
       "      <td>43.000000</td>\n",
       "      <td>1956.521739</td>\n",
       "      <td>2.000000</td>\n",
       "      <td>3.000000</td>\n",
       "    </tr>\n",
       "    <tr>\n",
       "      <th>50%</th>\n",
       "      <td>-34.599920</td>\n",
       "      <td>-58.434414</td>\n",
       "      <td>1.750000e+05</td>\n",
       "      <td>73.000000</td>\n",
       "      <td>67.000000</td>\n",
       "      <td>2500.000000</td>\n",
       "      <td>3.000000</td>\n",
       "      <td>7.000000</td>\n",
       "    </tr>\n",
       "    <tr>\n",
       "      <th>75%</th>\n",
       "      <td>-34.582165</td>\n",
       "      <td>-58.402333</td>\n",
       "      <td>2.950000e+05</td>\n",
       "      <td>126.000000</td>\n",
       "      <td>105.000000</td>\n",
       "      <td>3046.153846</td>\n",
       "      <td>4.000000</td>\n",
       "      <td>13.000000</td>\n",
       "    </tr>\n",
       "    <tr>\n",
       "      <th>max</th>\n",
       "      <td>-34.534315</td>\n",
       "      <td>-58.353227</td>\n",
       "      <td>4.700000e+06</td>\n",
       "      <td>9874.000000</td>\n",
       "      <td>22518.000000</td>\n",
       "      <td>4929.577465</td>\n",
       "      <td>34.000000</td>\n",
       "      <td>15.000000</td>\n",
       "    </tr>\n",
       "  </tbody>\n",
       "</table>\n",
       "</div>"
      ],
      "text/plain": [
       "                lat           lon  price_aprox_usd  surface_total_in_m2  \\\n",
       "count  15131.000000  15131.000000     1.513100e+04         15131.000000   \n",
       "mean     -34.599881    -58.434942     2.565434e+05           111.570154   \n",
       "std        0.025862      0.039045     2.678539e+05           153.243359   \n",
       "min      -34.694841    -58.529858     9.862450e+03            10.000000   \n",
       "25%      -34.618980    -58.463133     1.190000e+05            47.000000   \n",
       "50%      -34.599920    -58.434414     1.750000e+05            73.000000   \n",
       "75%      -34.582165    -58.402333     2.950000e+05           126.000000   \n",
       "max      -34.534315    -58.353227     4.700000e+06          9874.000000   \n",
       "\n",
       "       surface_covered_in_m2  price_usd_per_m2         rooms        comuna  \n",
       "count           15131.000000      15131.000000  15131.000000  15131.000000  \n",
       "mean               98.677368       2528.832243      3.004098      8.014738  \n",
       "std               228.599470        847.113710      1.540374      5.006154  \n",
       "min                 1.000000        239.726027      1.000000      1.000000  \n",
       "25%                43.000000       1956.521739      2.000000      3.000000  \n",
       "50%                67.000000       2500.000000      3.000000      7.000000  \n",
       "75%               105.000000       3046.153846      4.000000     13.000000  \n",
       "max             22518.000000       4929.577465     34.000000     15.000000  "
      ]
     },
     "execution_count": 110,
     "metadata": {},
     "output_type": "execute_result"
    }
   ],
   "source": [
    "df_missing_values.describe()"
   ]
  },
  {
   "cell_type": "markdown",
   "metadata": {},
   "source": [
    "# Variables binarias"
   ]
  },
  {
   "cell_type": "markdown",
   "metadata": {},
   "source": [
    "### Generar variables binarias para el atributo property_type."
   ]
  },
  {
   "cell_type": "markdown",
   "metadata": {},
   "source": [
    "Hay que tener en cuenta en este caso que el atributo es categórico.\n",
    "\n",
    "Para hacerlo usando scikit-learn, por como vienen dados los valores (en formato string), primero conviene convertirlos en numéricos. Para esto usamos LabelEncoder.\n",
    "\n",
    "10) Convertí las variables de property_type utilizando LabelEncoder"
   ]
  },
  {
   "cell_type": "code",
   "execution_count": 142,
   "metadata": {},
   "outputs": [],
   "source": [
    "from sklearn.preprocessing import LabelEncoder"
   ]
  },
  {
   "cell_type": "code",
   "execution_count": 143,
   "metadata": {},
   "outputs": [],
   "source": [
    "le = LabelEncoder()\n",
    "df_missing_values['property_type'] = le.fit_transform(df_missing_values['property_type'])"
   ]
  },
  {
   "cell_type": "markdown",
   "metadata": {},
   "source": [
    "11) Mostrar las clases del LabelEncoder:"
   ]
  },
  {
   "cell_type": "code",
   "execution_count": 144,
   "metadata": {},
   "outputs": [
    {
     "data": {
      "text/plain": [
       "array([0, 1, 2, 3])"
      ]
     },
     "execution_count": 144,
     "metadata": {},
     "output_type": "execute_result"
    }
   ],
   "source": [
    "le.classes_"
   ]
  },
  {
   "cell_type": "markdown",
   "metadata": {},
   "source": [
    "Luego con OneHotEncoder obtenemos las categorías expresadas como variables binarias. "
   ]
  },
  {
   "cell_type": "markdown",
   "metadata": {},
   "source": [
    "12) Aplicar OneHotEncoder sobre las variables categóricas para crear un dataframe categoricals_df"
   ]
  },
  {
   "cell_type": "code",
   "execution_count": 145,
   "metadata": {},
   "outputs": [],
   "source": [
    "from sklearn.preprocessing import OneHotEncoder"
   ]
  },
  {
   "cell_type": "code",
   "execution_count": 146,
   "metadata": {
    "scrolled": true
   },
   "outputs": [
    {
     "data": {
      "text/html": [
       "<div>\n",
       "<style scoped>\n",
       "    .dataframe tbody tr th:only-of-type {\n",
       "        vertical-align: middle;\n",
       "    }\n",
       "\n",
       "    .dataframe tbody tr th {\n",
       "        vertical-align: top;\n",
       "    }\n",
       "\n",
       "    .dataframe thead th {\n",
       "        text-align: right;\n",
       "    }\n",
       "</style>\n",
       "<table border=\"1\" class=\"dataframe\">\n",
       "  <thead>\n",
       "    <tr style=\"text-align: right;\">\n",
       "      <th></th>\n",
       "      <th>created_on</th>\n",
       "      <th>operation</th>\n",
       "      <th>property_type</th>\n",
       "      <th>place_with_parent_names</th>\n",
       "      <th>lat-lon</th>\n",
       "      <th>lat</th>\n",
       "      <th>lon</th>\n",
       "      <th>price_aprox_usd</th>\n",
       "      <th>surface_total_in_m2</th>\n",
       "      <th>surface_covered_in_m2</th>\n",
       "      <th>price_usd_per_m2</th>\n",
       "      <th>rooms</th>\n",
       "      <th>properati_url</th>\n",
       "      <th>barrio</th>\n",
       "      <th>comuna</th>\n",
       "    </tr>\n",
       "  </thead>\n",
       "  <tbody>\n",
       "    <tr>\n",
       "      <th>2</th>\n",
       "      <td>2017-08-02</td>\n",
       "      <td>sell</td>\n",
       "      <td>3</td>\n",
       "      <td>|Argentina|Capital Federal|Palermo|Palermo Soho|</td>\n",
       "      <td>-34.589723,-58.4325664</td>\n",
       "      <td>-34.589723</td>\n",
       "      <td>-58.432566</td>\n",
       "      <td>343000.0</td>\n",
       "      <td>122.0</td>\n",
       "      <td>108.000000</td>\n",
       "      <td>2811.475410</td>\n",
       "      <td>2.0</td>\n",
       "      <td>https://www.properati.com.ar/1cm8w_venta_local...</td>\n",
       "      <td>PALERMO</td>\n",
       "      <td>14.0</td>\n",
       "    </tr>\n",
       "    <tr>\n",
       "      <th>5</th>\n",
       "      <td>2017-08-09</td>\n",
       "      <td>sell</td>\n",
       "      <td>3</td>\n",
       "      <td>|Argentina|Capital Federal|Palermo|</td>\n",
       "      <td>-34.57582474,-58.43432236</td>\n",
       "      <td>-34.575825</td>\n",
       "      <td>-58.434322</td>\n",
       "      <td>120000.0</td>\n",
       "      <td>30.0</td>\n",
       "      <td>30.000000</td>\n",
       "      <td>4000.000000</td>\n",
       "      <td>3.0</td>\n",
       "      <td>https://www.properati.com.ar/1cw7a_venta_local...</td>\n",
       "      <td>PALERMO</td>\n",
       "      <td>14.0</td>\n",
       "    </tr>\n",
       "    <tr>\n",
       "      <th>6</th>\n",
       "      <td>2017-08-11</td>\n",
       "      <td>sell</td>\n",
       "      <td>3</td>\n",
       "      <td>|Argentina|Capital Federal|Belgrano|</td>\n",
       "      <td>-34.5739059,-58.4391946</td>\n",
       "      <td>-34.573906</td>\n",
       "      <td>-58.439195</td>\n",
       "      <td>100000.0</td>\n",
       "      <td>26.0</td>\n",
       "      <td>98.677368</td>\n",
       "      <td>3846.153846</td>\n",
       "      <td>3.0</td>\n",
       "      <td>https://www.properati.com.ar/1d36i_venta_local...</td>\n",
       "      <td>PALERMO</td>\n",
       "      <td>14.0</td>\n",
       "    </tr>\n",
       "    <tr>\n",
       "      <th>8</th>\n",
       "      <td>2017-08-12</td>\n",
       "      <td>sell</td>\n",
       "      <td>3</td>\n",
       "      <td>|Argentina|Capital Federal|Palermo|</td>\n",
       "      <td>-34.5956086,-58.4247641</td>\n",
       "      <td>-34.595609</td>\n",
       "      <td>-58.424764</td>\n",
       "      <td>110000.0</td>\n",
       "      <td>48.0</td>\n",
       "      <td>48.000000</td>\n",
       "      <td>2291.666667</td>\n",
       "      <td>3.0</td>\n",
       "      <td>https://www.properati.com.ar/1d5sl_venta_local...</td>\n",
       "      <td>PALERMO</td>\n",
       "      <td>14.0</td>\n",
       "    </tr>\n",
       "    <tr>\n",
       "      <th>9</th>\n",
       "      <td>2017-08-15</td>\n",
       "      <td>sell</td>\n",
       "      <td>3</td>\n",
       "      <td>|Argentina|Capital Federal|Palermo|</td>\n",
       "      <td>-34.5580305,-58.4170088</td>\n",
       "      <td>-34.558031</td>\n",
       "      <td>-58.417009</td>\n",
       "      <td>50000.0</td>\n",
       "      <td>20.0</td>\n",
       "      <td>20.000000</td>\n",
       "      <td>2500.000000</td>\n",
       "      <td>3.0</td>\n",
       "      <td>https://www.properati.com.ar/1d86m_venta_local...</td>\n",
       "      <td>PALERMO</td>\n",
       "      <td>14.0</td>\n",
       "    </tr>\n",
       "  </tbody>\n",
       "</table>\n",
       "</div>"
      ],
      "text/plain": [
       "  created_on operation  property_type  \\\n",
       "2 2017-08-02      sell              3   \n",
       "5 2017-08-09      sell              3   \n",
       "6 2017-08-11      sell              3   \n",
       "8 2017-08-12      sell              3   \n",
       "9 2017-08-15      sell              3   \n",
       "\n",
       "                            place_with_parent_names  \\\n",
       "2  |Argentina|Capital Federal|Palermo|Palermo Soho|   \n",
       "5               |Argentina|Capital Federal|Palermo|   \n",
       "6              |Argentina|Capital Federal|Belgrano|   \n",
       "8               |Argentina|Capital Federal|Palermo|   \n",
       "9               |Argentina|Capital Federal|Palermo|   \n",
       "\n",
       "                     lat-lon        lat        lon  price_aprox_usd  \\\n",
       "2     -34.589723,-58.4325664 -34.589723 -58.432566         343000.0   \n",
       "5  -34.57582474,-58.43432236 -34.575825 -58.434322         120000.0   \n",
       "6    -34.5739059,-58.4391946 -34.573906 -58.439195         100000.0   \n",
       "8    -34.5956086,-58.4247641 -34.595609 -58.424764         110000.0   \n",
       "9    -34.5580305,-58.4170088 -34.558031 -58.417009          50000.0   \n",
       "\n",
       "   surface_total_in_m2  surface_covered_in_m2  price_usd_per_m2  rooms  \\\n",
       "2                122.0             108.000000       2811.475410    2.0   \n",
       "5                 30.0              30.000000       4000.000000    3.0   \n",
       "6                 26.0              98.677368       3846.153846    3.0   \n",
       "8                 48.0              48.000000       2291.666667    3.0   \n",
       "9                 20.0              20.000000       2500.000000    3.0   \n",
       "\n",
       "                                       properati_url   barrio  comuna  \n",
       "2  https://www.properati.com.ar/1cm8w_venta_local...  PALERMO    14.0  \n",
       "5  https://www.properati.com.ar/1cw7a_venta_local...  PALERMO    14.0  \n",
       "6  https://www.properati.com.ar/1d36i_venta_local...  PALERMO    14.0  \n",
       "8  https://www.properati.com.ar/1d5sl_venta_local...  PALERMO    14.0  \n",
       "9  https://www.properati.com.ar/1d86m_venta_local...  PALERMO    14.0  "
      ]
     },
     "execution_count": 146,
     "metadata": {},
     "output_type": "execute_result"
    }
   ],
   "source": [
    "df_missing_values.head()"
   ]
  },
  {
   "cell_type": "code",
   "execution_count": 147,
   "metadata": {},
   "outputs": [],
   "source": [
    "ohe = OneHotEncoder(sparse=False)\n",
    "X = df_missing_values[['property_type', 'barrio']]"
   ]
  },
  {
   "cell_type": "code",
   "execution_count": 148,
   "metadata": {},
   "outputs": [
    {
     "data": {
      "text/plain": [
       "OneHotEncoder(categorical_features=None, categories=None,\n",
       "       dtype=<class 'numpy.float64'>, handle_unknown='error',\n",
       "       n_values=None, sparse=False)"
      ]
     },
     "execution_count": 148,
     "metadata": {},
     "output_type": "execute_result"
    }
   ],
   "source": [
    "ohe.fit(X)"
   ]
  },
  {
   "cell_type": "code",
   "execution_count": 149,
   "metadata": {},
   "outputs": [],
   "source": [
    "X_transform = ohe.transform(X)"
   ]
  },
  {
   "cell_type": "code",
   "execution_count": 150,
   "metadata": {
    "scrolled": true
   },
   "outputs": [
    {
     "data": {
      "text/plain": [
       "[array([0, 1, 2, 3], dtype=object),\n",
       " array(['AGRONOMIA', 'ALMAGRO', 'BALVANERA', 'BARRACAS', 'BELGRANO',\n",
       "        'BOCA', 'BOEDO', 'CABALLITO', 'CHACARITA', 'COGHLAN', 'COLEGIALES',\n",
       "        'CONSTITUCION', 'FLORES', 'FLORESTA', 'LINIERS', 'MATADEROS',\n",
       "        'MONSERRAT', 'MONTE CASTRO', 'NUEVA POMPEYA', 'NUEZ', 'PALERMO',\n",
       "        'PARQUE AVELLANEDA', 'PARQUE CHACABUCO', 'PARQUE CHAS',\n",
       "        'PARQUE PATRICIOS', 'PATERNAL', 'PUERTO MADERO', 'RECOLETA',\n",
       "        'RETIRO', 'SAAVEDRA', 'SAN CRISTOBAL', 'SAN NICOLAS', 'SAN TELMO',\n",
       "        'VELEZ SARSFIELD', 'VERSALLES', 'VILLA CRESPO', 'VILLA DEL PARQUE',\n",
       "        'VILLA DEVOTO', 'VILLA GRAL. MITRE', 'VILLA LUGANO', 'VILLA LURO',\n",
       "        'VILLA ORTUZAR', 'VILLA PUEYRREDON', 'VILLA REAL',\n",
       "        'VILLA RIACHUELO', 'VILLA SANTA RITA', 'VILLA SOLDATI',\n",
       "        'VILLA URQUIZA'], dtype=object)]"
      ]
     },
     "execution_count": 150,
     "metadata": {},
     "output_type": "execute_result"
    }
   ],
   "source": [
    "ohe.categories_"
   ]
  },
  {
   "cell_type": "code",
   "execution_count": 154,
   "metadata": {},
   "outputs": [],
   "source": [
    "# X_transform = pd.DataFrame(X_transform, index=df_missing_values.index)\n",
    "X_transform = pd.DataFrame(X_transform)"
   ]
  },
  {
   "cell_type": "code",
   "execution_count": 157,
   "metadata": {},
   "outputs": [],
   "source": [
    "X_transform.columns = ohe.get_feature_names()"
   ]
  },
  {
   "cell_type": "code",
   "execution_count": 158,
   "metadata": {},
   "outputs": [
    {
     "data": {
      "text/html": [
       "<div>\n",
       "<style scoped>\n",
       "    .dataframe tbody tr th:only-of-type {\n",
       "        vertical-align: middle;\n",
       "    }\n",
       "\n",
       "    .dataframe tbody tr th {\n",
       "        vertical-align: top;\n",
       "    }\n",
       "\n",
       "    .dataframe thead th {\n",
       "        text-align: right;\n",
       "    }\n",
       "</style>\n",
       "<table border=\"1\" class=\"dataframe\">\n",
       "  <thead>\n",
       "    <tr style=\"text-align: right;\">\n",
       "      <th></th>\n",
       "      <th>x0_0</th>\n",
       "      <th>x0_1</th>\n",
       "      <th>x0_2</th>\n",
       "      <th>x0_3</th>\n",
       "      <th>x1_AGRONOMIA</th>\n",
       "      <th>x1_ALMAGRO</th>\n",
       "      <th>x1_BALVANERA</th>\n",
       "      <th>x1_BARRACAS</th>\n",
       "      <th>x1_BELGRANO</th>\n",
       "      <th>x1_BOCA</th>\n",
       "      <th>...</th>\n",
       "      <th>x1_VILLA GRAL. MITRE</th>\n",
       "      <th>x1_VILLA LUGANO</th>\n",
       "      <th>x1_VILLA LURO</th>\n",
       "      <th>x1_VILLA ORTUZAR</th>\n",
       "      <th>x1_VILLA PUEYRREDON</th>\n",
       "      <th>x1_VILLA REAL</th>\n",
       "      <th>x1_VILLA RIACHUELO</th>\n",
       "      <th>x1_VILLA SANTA RITA</th>\n",
       "      <th>x1_VILLA SOLDATI</th>\n",
       "      <th>x1_VILLA URQUIZA</th>\n",
       "    </tr>\n",
       "  </thead>\n",
       "  <tbody>\n",
       "    <tr>\n",
       "      <th>0</th>\n",
       "      <td>0.0</td>\n",
       "      <td>0.0</td>\n",
       "      <td>0.0</td>\n",
       "      <td>1.0</td>\n",
       "      <td>0.0</td>\n",
       "      <td>0.0</td>\n",
       "      <td>0.0</td>\n",
       "      <td>0.0</td>\n",
       "      <td>0.0</td>\n",
       "      <td>0.0</td>\n",
       "      <td>...</td>\n",
       "      <td>0.0</td>\n",
       "      <td>0.0</td>\n",
       "      <td>0.0</td>\n",
       "      <td>0.0</td>\n",
       "      <td>0.0</td>\n",
       "      <td>0.0</td>\n",
       "      <td>0.0</td>\n",
       "      <td>0.0</td>\n",
       "      <td>0.0</td>\n",
       "      <td>0.0</td>\n",
       "    </tr>\n",
       "    <tr>\n",
       "      <th>1</th>\n",
       "      <td>0.0</td>\n",
       "      <td>0.0</td>\n",
       "      <td>0.0</td>\n",
       "      <td>1.0</td>\n",
       "      <td>0.0</td>\n",
       "      <td>0.0</td>\n",
       "      <td>0.0</td>\n",
       "      <td>0.0</td>\n",
       "      <td>0.0</td>\n",
       "      <td>0.0</td>\n",
       "      <td>...</td>\n",
       "      <td>0.0</td>\n",
       "      <td>0.0</td>\n",
       "      <td>0.0</td>\n",
       "      <td>0.0</td>\n",
       "      <td>0.0</td>\n",
       "      <td>0.0</td>\n",
       "      <td>0.0</td>\n",
       "      <td>0.0</td>\n",
       "      <td>0.0</td>\n",
       "      <td>0.0</td>\n",
       "    </tr>\n",
       "    <tr>\n",
       "      <th>2</th>\n",
       "      <td>0.0</td>\n",
       "      <td>0.0</td>\n",
       "      <td>0.0</td>\n",
       "      <td>1.0</td>\n",
       "      <td>0.0</td>\n",
       "      <td>0.0</td>\n",
       "      <td>0.0</td>\n",
       "      <td>0.0</td>\n",
       "      <td>0.0</td>\n",
       "      <td>0.0</td>\n",
       "      <td>...</td>\n",
       "      <td>0.0</td>\n",
       "      <td>0.0</td>\n",
       "      <td>0.0</td>\n",
       "      <td>0.0</td>\n",
       "      <td>0.0</td>\n",
       "      <td>0.0</td>\n",
       "      <td>0.0</td>\n",
       "      <td>0.0</td>\n",
       "      <td>0.0</td>\n",
       "      <td>0.0</td>\n",
       "    </tr>\n",
       "    <tr>\n",
       "      <th>3</th>\n",
       "      <td>0.0</td>\n",
       "      <td>0.0</td>\n",
       "      <td>0.0</td>\n",
       "      <td>1.0</td>\n",
       "      <td>0.0</td>\n",
       "      <td>0.0</td>\n",
       "      <td>0.0</td>\n",
       "      <td>0.0</td>\n",
       "      <td>0.0</td>\n",
       "      <td>0.0</td>\n",
       "      <td>...</td>\n",
       "      <td>0.0</td>\n",
       "      <td>0.0</td>\n",
       "      <td>0.0</td>\n",
       "      <td>0.0</td>\n",
       "      <td>0.0</td>\n",
       "      <td>0.0</td>\n",
       "      <td>0.0</td>\n",
       "      <td>0.0</td>\n",
       "      <td>0.0</td>\n",
       "      <td>0.0</td>\n",
       "    </tr>\n",
       "    <tr>\n",
       "      <th>4</th>\n",
       "      <td>0.0</td>\n",
       "      <td>0.0</td>\n",
       "      <td>0.0</td>\n",
       "      <td>1.0</td>\n",
       "      <td>0.0</td>\n",
       "      <td>0.0</td>\n",
       "      <td>0.0</td>\n",
       "      <td>0.0</td>\n",
       "      <td>0.0</td>\n",
       "      <td>0.0</td>\n",
       "      <td>...</td>\n",
       "      <td>0.0</td>\n",
       "      <td>0.0</td>\n",
       "      <td>0.0</td>\n",
       "      <td>0.0</td>\n",
       "      <td>0.0</td>\n",
       "      <td>0.0</td>\n",
       "      <td>0.0</td>\n",
       "      <td>0.0</td>\n",
       "      <td>0.0</td>\n",
       "      <td>0.0</td>\n",
       "    </tr>\n",
       "  </tbody>\n",
       "</table>\n",
       "<p>5 rows × 52 columns</p>\n",
       "</div>"
      ],
      "text/plain": [
       "   x0_0  x0_1  x0_2  x0_3  x1_AGRONOMIA  x1_ALMAGRO  x1_BALVANERA  \\\n",
       "0   0.0   0.0   0.0   1.0           0.0         0.0           0.0   \n",
       "1   0.0   0.0   0.0   1.0           0.0         0.0           0.0   \n",
       "2   0.0   0.0   0.0   1.0           0.0         0.0           0.0   \n",
       "3   0.0   0.0   0.0   1.0           0.0         0.0           0.0   \n",
       "4   0.0   0.0   0.0   1.0           0.0         0.0           0.0   \n",
       "\n",
       "   x1_BARRACAS  x1_BELGRANO  x1_BOCA  ...  x1_VILLA GRAL. MITRE  \\\n",
       "0          0.0          0.0      0.0  ...                   0.0   \n",
       "1          0.0          0.0      0.0  ...                   0.0   \n",
       "2          0.0          0.0      0.0  ...                   0.0   \n",
       "3          0.0          0.0      0.0  ...                   0.0   \n",
       "4          0.0          0.0      0.0  ...                   0.0   \n",
       "\n",
       "   x1_VILLA LUGANO  x1_VILLA LURO  x1_VILLA ORTUZAR  x1_VILLA PUEYRREDON  \\\n",
       "0              0.0            0.0               0.0                  0.0   \n",
       "1              0.0            0.0               0.0                  0.0   \n",
       "2              0.0            0.0               0.0                  0.0   \n",
       "3              0.0            0.0               0.0                  0.0   \n",
       "4              0.0            0.0               0.0                  0.0   \n",
       "\n",
       "   x1_VILLA REAL  x1_VILLA RIACHUELO  x1_VILLA SANTA RITA  x1_VILLA SOLDATI  \\\n",
       "0            0.0                 0.0                  0.0               0.0   \n",
       "1            0.0                 0.0                  0.0               0.0   \n",
       "2            0.0                 0.0                  0.0               0.0   \n",
       "3            0.0                 0.0                  0.0               0.0   \n",
       "4            0.0                 0.0                  0.0               0.0   \n",
       "\n",
       "   x1_VILLA URQUIZA  \n",
       "0               0.0  \n",
       "1               0.0  \n",
       "2               0.0  \n",
       "3               0.0  \n",
       "4               0.0  \n",
       "\n",
       "[5 rows x 52 columns]"
      ]
     },
     "execution_count": 158,
     "metadata": {},
     "output_type": "execute_result"
    }
   ],
   "source": [
    "X_transform.head()"
   ]
  },
  {
   "cell_type": "code",
   "execution_count": 159,
   "metadata": {},
   "outputs": [],
   "source": [
    "df_missing_values.reset_index(drop=True, inplace=True)\n",
    "X_transform.reset_index(drop=True, inplace=True)"
   ]
  },
  {
   "cell_type": "code",
   "execution_count": 160,
   "metadata": {},
   "outputs": [],
   "source": [
    "df_union = pd.concat([df_missing_values, X_transform], axis=1)"
   ]
  },
  {
   "cell_type": "code",
   "execution_count": 58,
   "metadata": {
    "scrolled": true
   },
   "outputs": [
    {
     "data": {
      "text/html": [
       "<div>\n",
       "<style scoped>\n",
       "    .dataframe tbody tr th:only-of-type {\n",
       "        vertical-align: middle;\n",
       "    }\n",
       "\n",
       "    .dataframe tbody tr th {\n",
       "        vertical-align: top;\n",
       "    }\n",
       "\n",
       "    .dataframe thead th {\n",
       "        text-align: right;\n",
       "    }\n",
       "</style>\n",
       "<table border=\"1\" class=\"dataframe\">\n",
       "  <thead>\n",
       "    <tr style=\"text-align: right;\">\n",
       "      <th></th>\n",
       "      <th>created_on</th>\n",
       "      <th>operation</th>\n",
       "      <th>property_type</th>\n",
       "      <th>place_with_parent_names</th>\n",
       "      <th>lat-lon</th>\n",
       "      <th>lat</th>\n",
       "      <th>lon</th>\n",
       "      <th>price_aprox_usd</th>\n",
       "      <th>surface_total_in_m2</th>\n",
       "      <th>surface_covered_in_m2</th>\n",
       "      <th>price_usd_per_m2</th>\n",
       "      <th>rooms</th>\n",
       "      <th>properati_url</th>\n",
       "      <th>barrio</th>\n",
       "      <th>comuna</th>\n",
       "      <th>0</th>\n",
       "      <th>1</th>\n",
       "      <th>2</th>\n",
       "      <th>3</th>\n",
       "    </tr>\n",
       "  </thead>\n",
       "  <tbody>\n",
       "    <tr>\n",
       "      <th>0</th>\n",
       "      <td>2017-08-02</td>\n",
       "      <td>sell</td>\n",
       "      <td>3</td>\n",
       "      <td>|Argentina|Capital Federal|Palermo|Palermo Soho|</td>\n",
       "      <td>-34.589723,-58.4325664</td>\n",
       "      <td>-34.589723</td>\n",
       "      <td>-58.432566</td>\n",
       "      <td>343000.0</td>\n",
       "      <td>122.0</td>\n",
       "      <td>108.000000</td>\n",
       "      <td>2811.475410</td>\n",
       "      <td>2.0</td>\n",
       "      <td>https://www.properati.com.ar/1cm8w_venta_local...</td>\n",
       "      <td>PALERMO</td>\n",
       "      <td>14.0</td>\n",
       "      <td>0.0</td>\n",
       "      <td>0.0</td>\n",
       "      <td>0.0</td>\n",
       "      <td>1.0</td>\n",
       "    </tr>\n",
       "    <tr>\n",
       "      <th>1</th>\n",
       "      <td>2017-08-09</td>\n",
       "      <td>sell</td>\n",
       "      <td>3</td>\n",
       "      <td>|Argentina|Capital Federal|Palermo|</td>\n",
       "      <td>-34.57582474,-58.43432236</td>\n",
       "      <td>-34.575825</td>\n",
       "      <td>-58.434322</td>\n",
       "      <td>120000.0</td>\n",
       "      <td>30.0</td>\n",
       "      <td>30.000000</td>\n",
       "      <td>4000.000000</td>\n",
       "      <td>3.0</td>\n",
       "      <td>https://www.properati.com.ar/1cw7a_venta_local...</td>\n",
       "      <td>PALERMO</td>\n",
       "      <td>14.0</td>\n",
       "      <td>0.0</td>\n",
       "      <td>0.0</td>\n",
       "      <td>0.0</td>\n",
       "      <td>1.0</td>\n",
       "    </tr>\n",
       "    <tr>\n",
       "      <th>2</th>\n",
       "      <td>2017-08-11</td>\n",
       "      <td>sell</td>\n",
       "      <td>3</td>\n",
       "      <td>|Argentina|Capital Federal|Belgrano|</td>\n",
       "      <td>-34.5739059,-58.4391946</td>\n",
       "      <td>-34.573906</td>\n",
       "      <td>-58.439195</td>\n",
       "      <td>100000.0</td>\n",
       "      <td>26.0</td>\n",
       "      <td>98.677368</td>\n",
       "      <td>3846.153846</td>\n",
       "      <td>3.0</td>\n",
       "      <td>https://www.properati.com.ar/1d36i_venta_local...</td>\n",
       "      <td>PALERMO</td>\n",
       "      <td>14.0</td>\n",
       "      <td>0.0</td>\n",
       "      <td>0.0</td>\n",
       "      <td>0.0</td>\n",
       "      <td>1.0</td>\n",
       "    </tr>\n",
       "    <tr>\n",
       "      <th>3</th>\n",
       "      <td>2017-08-12</td>\n",
       "      <td>sell</td>\n",
       "      <td>3</td>\n",
       "      <td>|Argentina|Capital Federal|Palermo|</td>\n",
       "      <td>-34.5956086,-58.4247641</td>\n",
       "      <td>-34.595609</td>\n",
       "      <td>-58.424764</td>\n",
       "      <td>110000.0</td>\n",
       "      <td>48.0</td>\n",
       "      <td>48.000000</td>\n",
       "      <td>2291.666667</td>\n",
       "      <td>3.0</td>\n",
       "      <td>https://www.properati.com.ar/1d5sl_venta_local...</td>\n",
       "      <td>PALERMO</td>\n",
       "      <td>14.0</td>\n",
       "      <td>0.0</td>\n",
       "      <td>0.0</td>\n",
       "      <td>0.0</td>\n",
       "      <td>1.0</td>\n",
       "    </tr>\n",
       "    <tr>\n",
       "      <th>4</th>\n",
       "      <td>2017-08-15</td>\n",
       "      <td>sell</td>\n",
       "      <td>3</td>\n",
       "      <td>|Argentina|Capital Federal|Palermo|</td>\n",
       "      <td>-34.5580305,-58.4170088</td>\n",
       "      <td>-34.558031</td>\n",
       "      <td>-58.417009</td>\n",
       "      <td>50000.0</td>\n",
       "      <td>20.0</td>\n",
       "      <td>20.000000</td>\n",
       "      <td>2500.000000</td>\n",
       "      <td>3.0</td>\n",
       "      <td>https://www.properati.com.ar/1d86m_venta_local...</td>\n",
       "      <td>PALERMO</td>\n",
       "      <td>14.0</td>\n",
       "      <td>0.0</td>\n",
       "      <td>0.0</td>\n",
       "      <td>0.0</td>\n",
       "      <td>1.0</td>\n",
       "    </tr>\n",
       "  </tbody>\n",
       "</table>\n",
       "</div>"
      ],
      "text/plain": [
       "  created_on operation  property_type  \\\n",
       "0 2017-08-02      sell              3   \n",
       "1 2017-08-09      sell              3   \n",
       "2 2017-08-11      sell              3   \n",
       "3 2017-08-12      sell              3   \n",
       "4 2017-08-15      sell              3   \n",
       "\n",
       "                            place_with_parent_names  \\\n",
       "0  |Argentina|Capital Federal|Palermo|Palermo Soho|   \n",
       "1               |Argentina|Capital Federal|Palermo|   \n",
       "2              |Argentina|Capital Federal|Belgrano|   \n",
       "3               |Argentina|Capital Federal|Palermo|   \n",
       "4               |Argentina|Capital Federal|Palermo|   \n",
       "\n",
       "                     lat-lon        lat        lon  price_aprox_usd  \\\n",
       "0     -34.589723,-58.4325664 -34.589723 -58.432566         343000.0   \n",
       "1  -34.57582474,-58.43432236 -34.575825 -58.434322         120000.0   \n",
       "2    -34.5739059,-58.4391946 -34.573906 -58.439195         100000.0   \n",
       "3    -34.5956086,-58.4247641 -34.595609 -58.424764         110000.0   \n",
       "4    -34.5580305,-58.4170088 -34.558031 -58.417009          50000.0   \n",
       "\n",
       "   surface_total_in_m2  surface_covered_in_m2  price_usd_per_m2  rooms  \\\n",
       "0                122.0             108.000000       2811.475410    2.0   \n",
       "1                 30.0              30.000000       4000.000000    3.0   \n",
       "2                 26.0              98.677368       3846.153846    3.0   \n",
       "3                 48.0              48.000000       2291.666667    3.0   \n",
       "4                 20.0              20.000000       2500.000000    3.0   \n",
       "\n",
       "                                       properati_url   barrio  comuna    0  \\\n",
       "0  https://www.properati.com.ar/1cm8w_venta_local...  PALERMO    14.0  0.0   \n",
       "1  https://www.properati.com.ar/1cw7a_venta_local...  PALERMO    14.0  0.0   \n",
       "2  https://www.properati.com.ar/1d36i_venta_local...  PALERMO    14.0  0.0   \n",
       "3  https://www.properati.com.ar/1d5sl_venta_local...  PALERMO    14.0  0.0   \n",
       "4  https://www.properati.com.ar/1d86m_venta_local...  PALERMO    14.0  0.0   \n",
       "\n",
       "     1    2    3  \n",
       "0  0.0  0.0  1.0  \n",
       "1  0.0  0.0  1.0  \n",
       "2  0.0  0.0  1.0  \n",
       "3  0.0  0.0  1.0  \n",
       "4  0.0  0.0  1.0  "
      ]
     },
     "execution_count": 58,
     "metadata": {},
     "output_type": "execute_result"
    }
   ],
   "source": [
    "df_union.head()"
   ]
  },
  {
   "cell_type": "markdown",
   "metadata": {},
   "source": [
    "Unir el nuevo dataframe categorical_df con el dataframe original df. Observación, necesitamos que tengan el mismo índice."
   ]
  },
  {
   "cell_type": "markdown",
   "metadata": {},
   "source": [
    "# Variables calculadas"
   ]
  },
  {
   "cell_type": "markdown",
   "metadata": {},
   "source": [
    "### Calcular el precio por metro cuadrado (precio/superficie total). Llamar a este atributo price_m2."
   ]
  },
  {
   "cell_type": "markdown",
   "metadata": {},
   "source": [
    "Calcular el precio por metro cuadrado (precio/superficie total). Llamar a este atributo price_m2."
   ]
  },
  {
   "cell_type": "markdown",
   "metadata": {},
   "source": [
    "Hay que tener cuidado en esta parte respecto de dividir por cero. Para ello, armemos una función de división que contemple eso.\n",
    "\n",
    "El hecho de crear una columna nueva y no imputar los faltantes es simplemente una decisión. Cuando veamos modelos predictivos, vamos a poder cuantificar el costo de las decisiones que tomemos en términos de performance del modelo."
   ]
  },
  {
   "cell_type": "code",
   "execution_count": 162,
   "metadata": {},
   "outputs": [],
   "source": [
    "# Se crea la función para la nueva columna.\n",
    "def price_m2(row):\n",
    "    if row['surface_total_in_m2'] == 0:\n",
    "        return 0\n",
    "    else:\n",
    "        return row['price_aprox_usd']/row['surface_total_in_m2']\n"
   ]
  },
  {
   "cell_type": "code",
   "execution_count": 163,
   "metadata": {
    "scrolled": true
   },
   "outputs": [],
   "source": [
    "df_union['price_m2'] = df_union.apply(lambda row: price_m2(row), axis=1)"
   ]
  },
  {
   "cell_type": "code",
   "execution_count": 164,
   "metadata": {},
   "outputs": [
    {
     "data": {
      "text/html": [
       "<div>\n",
       "<style scoped>\n",
       "    .dataframe tbody tr th:only-of-type {\n",
       "        vertical-align: middle;\n",
       "    }\n",
       "\n",
       "    .dataframe tbody tr th {\n",
       "        vertical-align: top;\n",
       "    }\n",
       "\n",
       "    .dataframe thead th {\n",
       "        text-align: right;\n",
       "    }\n",
       "</style>\n",
       "<table border=\"1\" class=\"dataframe\">\n",
       "  <thead>\n",
       "    <tr style=\"text-align: right;\">\n",
       "      <th></th>\n",
       "      <th>created_on</th>\n",
       "      <th>operation</th>\n",
       "      <th>property_type</th>\n",
       "      <th>place_with_parent_names</th>\n",
       "      <th>lat-lon</th>\n",
       "      <th>lat</th>\n",
       "      <th>lon</th>\n",
       "      <th>price_aprox_usd</th>\n",
       "      <th>surface_total_in_m2</th>\n",
       "      <th>surface_covered_in_m2</th>\n",
       "      <th>...</th>\n",
       "      <th>x1_VILLA LUGANO</th>\n",
       "      <th>x1_VILLA LURO</th>\n",
       "      <th>x1_VILLA ORTUZAR</th>\n",
       "      <th>x1_VILLA PUEYRREDON</th>\n",
       "      <th>x1_VILLA REAL</th>\n",
       "      <th>x1_VILLA RIACHUELO</th>\n",
       "      <th>x1_VILLA SANTA RITA</th>\n",
       "      <th>x1_VILLA SOLDATI</th>\n",
       "      <th>x1_VILLA URQUIZA</th>\n",
       "      <th>price_m2</th>\n",
       "    </tr>\n",
       "  </thead>\n",
       "  <tbody>\n",
       "    <tr>\n",
       "      <th>0</th>\n",
       "      <td>2017-08-02</td>\n",
       "      <td>sell</td>\n",
       "      <td>3</td>\n",
       "      <td>|Argentina|Capital Federal|Palermo|Palermo Soho|</td>\n",
       "      <td>-34.589723,-58.4325664</td>\n",
       "      <td>-34.589723</td>\n",
       "      <td>-58.432566</td>\n",
       "      <td>343000.0</td>\n",
       "      <td>122.0</td>\n",
       "      <td>108.000000</td>\n",
       "      <td>...</td>\n",
       "      <td>0.0</td>\n",
       "      <td>0.0</td>\n",
       "      <td>0.0</td>\n",
       "      <td>0.0</td>\n",
       "      <td>0.0</td>\n",
       "      <td>0.0</td>\n",
       "      <td>0.0</td>\n",
       "      <td>0.0</td>\n",
       "      <td>0.0</td>\n",
       "      <td>2811.475410</td>\n",
       "    </tr>\n",
       "    <tr>\n",
       "      <th>1</th>\n",
       "      <td>2017-08-09</td>\n",
       "      <td>sell</td>\n",
       "      <td>3</td>\n",
       "      <td>|Argentina|Capital Federal|Palermo|</td>\n",
       "      <td>-34.57582474,-58.43432236</td>\n",
       "      <td>-34.575825</td>\n",
       "      <td>-58.434322</td>\n",
       "      <td>120000.0</td>\n",
       "      <td>30.0</td>\n",
       "      <td>30.000000</td>\n",
       "      <td>...</td>\n",
       "      <td>0.0</td>\n",
       "      <td>0.0</td>\n",
       "      <td>0.0</td>\n",
       "      <td>0.0</td>\n",
       "      <td>0.0</td>\n",
       "      <td>0.0</td>\n",
       "      <td>0.0</td>\n",
       "      <td>0.0</td>\n",
       "      <td>0.0</td>\n",
       "      <td>4000.000000</td>\n",
       "    </tr>\n",
       "    <tr>\n",
       "      <th>2</th>\n",
       "      <td>2017-08-11</td>\n",
       "      <td>sell</td>\n",
       "      <td>3</td>\n",
       "      <td>|Argentina|Capital Federal|Belgrano|</td>\n",
       "      <td>-34.5739059,-58.4391946</td>\n",
       "      <td>-34.573906</td>\n",
       "      <td>-58.439195</td>\n",
       "      <td>100000.0</td>\n",
       "      <td>26.0</td>\n",
       "      <td>98.677368</td>\n",
       "      <td>...</td>\n",
       "      <td>0.0</td>\n",
       "      <td>0.0</td>\n",
       "      <td>0.0</td>\n",
       "      <td>0.0</td>\n",
       "      <td>0.0</td>\n",
       "      <td>0.0</td>\n",
       "      <td>0.0</td>\n",
       "      <td>0.0</td>\n",
       "      <td>0.0</td>\n",
       "      <td>3846.153846</td>\n",
       "    </tr>\n",
       "    <tr>\n",
       "      <th>3</th>\n",
       "      <td>2017-08-12</td>\n",
       "      <td>sell</td>\n",
       "      <td>3</td>\n",
       "      <td>|Argentina|Capital Federal|Palermo|</td>\n",
       "      <td>-34.5956086,-58.4247641</td>\n",
       "      <td>-34.595609</td>\n",
       "      <td>-58.424764</td>\n",
       "      <td>110000.0</td>\n",
       "      <td>48.0</td>\n",
       "      <td>48.000000</td>\n",
       "      <td>...</td>\n",
       "      <td>0.0</td>\n",
       "      <td>0.0</td>\n",
       "      <td>0.0</td>\n",
       "      <td>0.0</td>\n",
       "      <td>0.0</td>\n",
       "      <td>0.0</td>\n",
       "      <td>0.0</td>\n",
       "      <td>0.0</td>\n",
       "      <td>0.0</td>\n",
       "      <td>2291.666667</td>\n",
       "    </tr>\n",
       "    <tr>\n",
       "      <th>4</th>\n",
       "      <td>2017-08-15</td>\n",
       "      <td>sell</td>\n",
       "      <td>3</td>\n",
       "      <td>|Argentina|Capital Federal|Palermo|</td>\n",
       "      <td>-34.5580305,-58.4170088</td>\n",
       "      <td>-34.558031</td>\n",
       "      <td>-58.417009</td>\n",
       "      <td>50000.0</td>\n",
       "      <td>20.0</td>\n",
       "      <td>20.000000</td>\n",
       "      <td>...</td>\n",
       "      <td>0.0</td>\n",
       "      <td>0.0</td>\n",
       "      <td>0.0</td>\n",
       "      <td>0.0</td>\n",
       "      <td>0.0</td>\n",
       "      <td>0.0</td>\n",
       "      <td>0.0</td>\n",
       "      <td>0.0</td>\n",
       "      <td>0.0</td>\n",
       "      <td>2500.000000</td>\n",
       "    </tr>\n",
       "  </tbody>\n",
       "</table>\n",
       "<p>5 rows × 68 columns</p>\n",
       "</div>"
      ],
      "text/plain": [
       "  created_on operation  property_type  \\\n",
       "0 2017-08-02      sell              3   \n",
       "1 2017-08-09      sell              3   \n",
       "2 2017-08-11      sell              3   \n",
       "3 2017-08-12      sell              3   \n",
       "4 2017-08-15      sell              3   \n",
       "\n",
       "                            place_with_parent_names  \\\n",
       "0  |Argentina|Capital Federal|Palermo|Palermo Soho|   \n",
       "1               |Argentina|Capital Federal|Palermo|   \n",
       "2              |Argentina|Capital Federal|Belgrano|   \n",
       "3               |Argentina|Capital Federal|Palermo|   \n",
       "4               |Argentina|Capital Federal|Palermo|   \n",
       "\n",
       "                     lat-lon        lat        lon  price_aprox_usd  \\\n",
       "0     -34.589723,-58.4325664 -34.589723 -58.432566         343000.0   \n",
       "1  -34.57582474,-58.43432236 -34.575825 -58.434322         120000.0   \n",
       "2    -34.5739059,-58.4391946 -34.573906 -58.439195         100000.0   \n",
       "3    -34.5956086,-58.4247641 -34.595609 -58.424764         110000.0   \n",
       "4    -34.5580305,-58.4170088 -34.558031 -58.417009          50000.0   \n",
       "\n",
       "   surface_total_in_m2  surface_covered_in_m2  ...  x1_VILLA LUGANO  \\\n",
       "0                122.0             108.000000  ...              0.0   \n",
       "1                 30.0              30.000000  ...              0.0   \n",
       "2                 26.0              98.677368  ...              0.0   \n",
       "3                 48.0              48.000000  ...              0.0   \n",
       "4                 20.0              20.000000  ...              0.0   \n",
       "\n",
       "   x1_VILLA LURO x1_VILLA ORTUZAR x1_VILLA PUEYRREDON  x1_VILLA REAL  \\\n",
       "0            0.0              0.0                 0.0            0.0   \n",
       "1            0.0              0.0                 0.0            0.0   \n",
       "2            0.0              0.0                 0.0            0.0   \n",
       "3            0.0              0.0                 0.0            0.0   \n",
       "4            0.0              0.0                 0.0            0.0   \n",
       "\n",
       "   x1_VILLA RIACHUELO  x1_VILLA SANTA RITA  x1_VILLA SOLDATI  \\\n",
       "0                 0.0                  0.0               0.0   \n",
       "1                 0.0                  0.0               0.0   \n",
       "2                 0.0                  0.0               0.0   \n",
       "3                 0.0                  0.0               0.0   \n",
       "4                 0.0                  0.0               0.0   \n",
       "\n",
       "   x1_VILLA URQUIZA     price_m2  \n",
       "0               0.0  2811.475410  \n",
       "1               0.0  4000.000000  \n",
       "2               0.0  3846.153846  \n",
       "3               0.0  2291.666667  \n",
       "4               0.0  2500.000000  \n",
       "\n",
       "[5 rows x 68 columns]"
      ]
     },
     "execution_count": 164,
     "metadata": {},
     "output_type": "execute_result"
    }
   ],
   "source": [
    "df_union.head()"
   ]
  },
  {
   "cell_type": "code",
   "execution_count": 165,
   "metadata": {},
   "outputs": [],
   "source": [
    "# Se escribe en un archivo para seguir trabajando en los prácticos subsiguientes.\n",
    "df_union.to_csv(\"df_filtered.csv\", header=True, index=False)"
   ]
  },
  {
   "cell_type": "markdown",
   "metadata": {},
   "source": [
    "### Verificar que ya no quedan atributos con valores faltantes"
   ]
  },
  {
   "cell_type": "markdown",
   "metadata": {},
   "source": [
    "Verificar que ya no quedan atributos con valores faltantes.\n",
    "\n",
    "¿Cuál fue el costo de dicho procedimiento? ¿Cuantas observaciones fueron descartadas? ¿Que porcentaje representa? \n",
    "\n"
   ]
  },
  {
   "cell_type": "code",
   "execution_count": 167,
   "metadata": {},
   "outputs": [
    {
     "data": {
      "text/plain": [
       "created_on                 0\n",
       "operation                  0\n",
       "property_type              0\n",
       "place_with_parent_names    0\n",
       "lat-lon                    0\n",
       "lat                        0\n",
       "lon                        0\n",
       "price_aprox_usd            0\n",
       "surface_total_in_m2        0\n",
       "surface_covered_in_m2      0\n",
       "price_usd_per_m2           0\n",
       "rooms                      0\n",
       "properati_url              0\n",
       "barrio                     0\n",
       "comuna                     0\n",
       "x0_0                       0\n",
       "x0_1                       0\n",
       "x0_2                       0\n",
       "x0_3                       0\n",
       "x1_AGRONOMIA               0\n",
       "x1_ALMAGRO                 0\n",
       "x1_BALVANERA               0\n",
       "x1_BARRACAS                0\n",
       "x1_BELGRANO                0\n",
       "x1_BOCA                    0\n",
       "x1_BOEDO                   0\n",
       "x1_CABALLITO               0\n",
       "x1_CHACARITA               0\n",
       "x1_COGHLAN                 0\n",
       "x1_COLEGIALES              0\n",
       "                          ..\n",
       "x1_NUEZ                    0\n",
       "x1_PALERMO                 0\n",
       "x1_PARQUE AVELLANEDA       0\n",
       "x1_PARQUE CHACABUCO        0\n",
       "x1_PARQUE CHAS             0\n",
       "x1_PARQUE PATRICIOS        0\n",
       "x1_PATERNAL                0\n",
       "x1_PUERTO MADERO           0\n",
       "x1_RECOLETA                0\n",
       "x1_RETIRO                  0\n",
       "x1_SAAVEDRA                0\n",
       "x1_SAN CRISTOBAL           0\n",
       "x1_SAN NICOLAS             0\n",
       "x1_SAN TELMO               0\n",
       "x1_VELEZ SARSFIELD         0\n",
       "x1_VERSALLES               0\n",
       "x1_VILLA CRESPO            0\n",
       "x1_VILLA DEL PARQUE        0\n",
       "x1_VILLA DEVOTO            0\n",
       "x1_VILLA GRAL. MITRE       0\n",
       "x1_VILLA LUGANO            0\n",
       "x1_VILLA LURO              0\n",
       "x1_VILLA ORTUZAR           0\n",
       "x1_VILLA PUEYRREDON        0\n",
       "x1_VILLA REAL              0\n",
       "x1_VILLA RIACHUELO         0\n",
       "x1_VILLA SANTA RITA        0\n",
       "x1_VILLA SOLDATI           0\n",
       "x1_VILLA URQUIZA           0\n",
       "price_m2                   0\n",
       "Length: 68, dtype: int64"
      ]
     },
     "execution_count": 167,
     "metadata": {},
     "output_type": "execute_result"
    }
   ],
   "source": [
    "df_union.isna().sum()"
   ]
  },
  {
   "cell_type": "code",
   "execution_count": 168,
   "metadata": {},
   "outputs": [
    {
     "name": "stdout",
     "output_type": "stream",
     "text": [
      "Se descartaron 3848 observaciones.\n"
     ]
    }
   ],
   "source": [
    "# Instancias descartadas.\n",
    "deleted_obs =  df.shape[0] - df_union.shape[0]\n",
    "print(\"Se descartaron {0} observaciones.\".format(deleted_obs))"
   ]
  },
  {
   "cell_type": "code",
   "execution_count": 169,
   "metadata": {},
   "outputs": [
    {
     "name": "stdout",
     "output_type": "stream",
     "text": [
      "Esto representa el 4.93 %\n"
     ]
    }
   ],
   "source": [
    "# Porcentage de observaciones descartadas\n",
    "print (\"Esto representa el {0:.2f} %\".format(df.shape[0] / deleted_obs))"
   ]
  },
  {
   "cell_type": "markdown",
   "metadata": {},
   "source": [
    "# Informe final"
   ]
  },
  {
   "cell_type": "markdown",
   "metadata": {},
   "source": [
    "Presentar un informe final con los datos inferidos del dataset utilizando herramientas gráficas y escritas teniendo en cuenta los destinatarios. En este caso colegas de la diplomatura para preparar el informe con un background adecuado al destinatario."
   ]
  },
  {
   "cell_type": "code",
   "execution_count": null,
   "metadata": {},
   "outputs": [],
   "source": [
    "# INFORME ESCRITO\n",
    "#\n",
    "# En un primer paso se intentó verfiicar si habia lgún tipo de caracter extraño en el dataset.\n",
    "# pero como bien se explica en la celda correspondiente a ese punto, se concluye que no hay.\n",
    "# También se realizó una análisis para detectar datos duplicados, no se encuentra tampoco algún duplicado.\n",
    "# con respecto a los valores extremos se pudo comprobar a través de un boxplot y un distplot que había bastantes \n",
    "# outliers, y algunos con valores muy por encima de los demas.\n",
    "# Aplicando la técnica del rango inter-cuartílico se filtran estos datos y se vuelve a graficar los mismos,\n",
    "# esta vez comprobando que las gráficas muestran uns distribución cercana a la normal.\n",
    "# A continueación se trabajó cobre los datos faltantes, aquellos que se sabian que no eran importantes por \n",
    "# experiencia, fueron elimimados del dataset.Y los otros fueron imputados ya sea con la media, si  eran variables \n",
    "# continuas o con la mediana si eran datos categóricos.\n",
    "# Con respecto a las variables binarias, se computó las variables categóricas para pasarlas a binarias, ya que\n",
    "# como bien se menciona en el práctico, algunos algoritmos de ML no reconocen variables que no sean numéricas.\n",
    "# por lo que es recomendable transformarlas en dicho tipo para poder procesarlas.\n",
    "# Luego, se pudo comprabar que ya no quedaban atributos con valores nulos.\n",
    "# Además se calculó que se eliminaron alrededor de 5% de los datos."
   ]
  }
 ],
 "metadata": {
  "kernelspec": {
   "display_name": "Python 3",
   "language": "python",
   "name": "python3"
  },
  "language_info": {
   "codemirror_mode": {
    "name": "ipython",
    "version": 3
   },
   "file_extension": ".py",
   "mimetype": "text/x-python",
   "name": "python",
   "nbconvert_exporter": "python",
   "pygments_lexer": "ipython3",
   "version": "3.7.3"
  }
 },
 "nbformat": 4,
 "nbformat_minor": 2
}
